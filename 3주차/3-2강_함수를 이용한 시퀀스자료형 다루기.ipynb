{
 "cells": [
  {
   "cell_type": "markdown",
   "metadata": {},
   "source": [
    "## 함수 사용의 장점\n",
    "* 코드가 짧아짐 (반복 제거)\n",
    "* 소스코드가 보기 좋아짐 (구조적)\n",
    "* 어려운 문제를 쉽게 해결 (작은 단위로 분할)\n",
    "* 재사용이 가능 (한번만 작성)"
   ]
  },
  {
   "cell_type": "markdown",
   "metadata": {},
   "source": [
    "## 함수를 이용해 문제 풀어보기\n",
    "키와 몸무게를 사용자로부터 입력받아 (1)적정 몸무게를 계산하고 (2)BMI지수를 구하여 (3)비만도를 알려주는 프로그램을 작성"
   ]
  },
  {
   "cell_type": "code",
   "execution_count": 1,
   "metadata": {},
   "outputs": [
    {
     "name": "stdout",
     "output_type": "stream",
     "text": [
      "키(cm)를 입력하세요 : 180\n",
      "몸무게(kg)를 입력하세요 : 90\n",
      "적정몸무게 : 72.0\n",
      "bmi : 27.777777777777775\n",
      "경도비만\n"
     ]
    },
    {
     "data": {
      "text/plain": [
       "0"
      ]
     },
     "execution_count": 1,
     "metadata": {},
     "output_type": "execute_result"
    }
   ],
   "source": [
    "def 적정몸무게(신장):\n",
    "    result = (신장 - 100) * 0.9\n",
    "    return result\n",
    "\n",
    "def BMI계산(키, 몸무게):\n",
    "    result = 몸무게 / (키/100)**2\n",
    "    return result\n",
    "\n",
    "def 비만도진단(bmi):\n",
    "    if bmi < 20:\n",
    "        print('저체중')\n",
    "    elif 20 <= bmi < 25:\n",
    "        print('정상체중')\n",
    "    elif 25 <= bmi < 30:\n",
    "        print('경도비만')\n",
    "    elif 30 <= bmi < 40:\n",
    "        print('고도비만')\n",
    "    return 0\n",
    "\n",
    "키 = int(input('키(cm)를 입력하세요 : '))\n",
    "몸무게 = int(input('몸무게(kg)를 입력하세요 : '))\n",
    "print('적정몸무게 :', 적정몸무게(키))\n",
    "bmi = BMI계산(키, 몸무게)\n",
    "print('bmi :', bmi)\n",
    "비만도진단(bmi)"
   ]
  },
  {
   "cell_type": "markdown",
   "metadata": {},
   "source": [
    "## 다양한 메소드 (문자열, 리스트 함수들)\n",
    "cf. **튜플**은 데이터 변경이 불가하므로 **찾기** 기능만 사용 가능\n",
    "    * index(), count()"
   ]
  }
 ],
 "metadata": {
  "kernelspec": {
   "display_name": "Python 3",
   "language": "python",
   "name": "python3"
  },
  "language_info": {
   "codemirror_mode": {
    "name": "ipython",
    "version": 3
   },
   "file_extension": ".py",
   "mimetype": "text/x-python",
   "name": "python",
   "nbconvert_exporter": "python",
   "pygments_lexer": "ipython3",
   "version": "3.7.3"
  }
 },
 "nbformat": 4,
 "nbformat_minor": 2
}
