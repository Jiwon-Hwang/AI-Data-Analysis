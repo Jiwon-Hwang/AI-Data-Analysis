{
 "cells": [
  {
   "cell_type": "markdown",
   "metadata": {},
   "source": [
    "## Numpy 배열 (Array)\n",
    "* 순서가 있는, **같은 종류**의 데이터 집합\n",
    "* 대량의 숫자 데이터를 하나의 변수로 관리\n",
    "* **리스트보다 작은 메모리 차지, 빠른 데이터 처리 가능**\n",
    "* 리스트와 달리 **배열의 크기는 고정**! (***생성 후 원소 개수 바꿀 수 없음***)"
   ]
  },
  {
   "cell_type": "markdown",
   "metadata": {},
   "source": [
    "## 일차원 배열 생성하기"
   ]
  },
  {
   "cell_type": "code",
   "execution_count": 1,
   "metadata": {},
   "outputs": [
    {
     "data": {
      "text/plain": [
       "array([ 0.1,  5. ,  4. , 12. ,  0.5])"
      ]
     },
     "execution_count": 1,
     "metadata": {},
     "output_type": "execute_result"
    }
   ],
   "source": [
    "import numpy as np\n",
    "\n",
    "data1 = [0.1, 5, 4, 12, 0.5] \n",
    "a1 = np.array(data1) # 모두 float형으로 변환됨\n",
    "a1 "
   ]
  },
  {
   "cell_type": "code",
   "execution_count": 2,
   "metadata": {},
   "outputs": [
    {
     "data": {
      "text/plain": [
       "array([0., 1., 2., 3., 4., 5.])"
      ]
     },
     "execution_count": 2,
     "metadata": {},
     "output_type": "execute_result"
    }
   ],
   "source": [
    "data1 = [0,1,2,3,4,5]\n",
    "a1 = np.array(data1, dtype=float) # dtype 옵션 : 명시적으로 자료형 지정\n",
    "a1"
   ]
  },
  {
   "cell_type": "markdown",
   "metadata": {},
   "source": [
    "#### 배열 객체의 데이터 타입 확인 : dtype"
   ]
  },
  {
   "cell_type": "code",
   "execution_count": 3,
   "metadata": {
    "scrolled": true
   },
   "outputs": [
    {
     "data": {
      "text/plain": [
       "dtype('float64')"
      ]
     },
     "execution_count": 3,
     "metadata": {},
     "output_type": "execute_result"
    }
   ],
   "source": [
    "a1.dtype # a1 배열의 내부 요소들의 자료형"
   ]
  },
  {
   "cell_type": "code",
   "execution_count": 4,
   "metadata": {
    "scrolled": true
   },
   "outputs": [
    {
     "data": {
      "text/plain": [
       "numpy.ndarray"
      ]
     },
     "execution_count": 4,
     "metadata": {},
     "output_type": "execute_result"
    }
   ],
   "source": [
    "type(a1) # a1 객체(변수)의 자료형"
   ]
  },
  {
   "cell_type": "markdown",
   "metadata": {},
   "source": [
    "#### 범위를 지정해서 배열 생성 : np.arange"
   ]
  },
  {
   "cell_type": "code",
   "execution_count": 5,
   "metadata": {},
   "outputs": [
    {
     "data": {
      "text/plain": [
       "array([0, 2, 4, 6, 8])"
      ]
     },
     "execution_count": 5,
     "metadata": {},
     "output_type": "execute_result"
    }
   ],
   "source": [
    "a1 = np.arange(0, 10, 2) # [0, 10), step : 2\n",
    "a1"
   ]
  },
  {
   "cell_type": "code",
   "execution_count": 6,
   "metadata": {},
   "outputs": [
    {
     "data": {
      "text/plain": [
       "array([1, 2, 3, 4, 5, 6, 7, 8, 9])"
      ]
     },
     "execution_count": 6,
     "metadata": {},
     "output_type": "execute_result"
    }
   ],
   "source": [
    "a2 = np.arange(1, 10)\n",
    "a2"
   ]
  },
  {
   "cell_type": "code",
   "execution_count": 7,
   "metadata": {},
   "outputs": [
    {
     "data": {
      "text/plain": [
       "array([0, 1, 2, 3, 4])"
      ]
     },
     "execution_count": 7,
     "metadata": {},
     "output_type": "execute_result"
    }
   ],
   "source": [
    "a3 = np.arange(5)\n",
    "a3"
   ]
  },
  {
   "cell_type": "markdown",
   "metadata": {},
   "source": [
    "## 다차원 배열 생성하기"
   ]
  },
  {
   "cell_type": "code",
   "execution_count": 8,
   "metadata": {},
   "outputs": [
    {
     "data": {
      "text/plain": [
       "array([[ 0,  1,  2],\n",
       "       [ 3,  4,  5],\n",
       "       [ 6,  7,  8],\n",
       "       [ 9, 10, 11]])"
      ]
     },
     "execution_count": 8,
     "metadata": {},
     "output_type": "execute_result"
    }
   ],
   "source": [
    "b1 = np.arange(12).reshape(4,3) # [0, 12)로 12개 배열 생성 후, 4x3꼴로 변형\n",
    "b1"
   ]
  },
  {
   "cell_type": "markdown",
   "metadata": {},
   "source": [
    "## 범위와 데이터 수를 지정해 배열 생성하기\n",
    "#### np.linspace(start, stop, num)  : [start, stop] 범위의 num개의 요소 배열 생성 (동일 간격)\n",
    "> ※주의 : arange()와 달리 **np.linspace()는 stop 포함!!**"
   ]
  },
  {
   "cell_type": "code",
   "execution_count": 9,
   "metadata": {},
   "outputs": [
    {
     "data": {
      "text/plain": [
       "array([ 1.,  2.,  3.,  4.,  5.,  6.,  7.,  8.,  9., 10.])"
      ]
     },
     "execution_count": 9,
     "metadata": {},
     "output_type": "execute_result"
    }
   ],
   "source": [
    "arr1 = np.linspace(1, 10, 10) # 1~10까지 10개의 수의 배열 생성\n",
    "arr1"
   ]
  },
  {
   "cell_type": "code",
   "execution_count": 10,
   "metadata": {},
   "outputs": [
    {
     "data": {
      "text/plain": [
       "array([0.        , 0.28559933, 0.57119866, 0.856798  , 1.14239733,\n",
       "       1.42799666, 1.71359599, 1.99919533, 2.28479466, 2.57039399,\n",
       "       2.85599332, 3.14159265])"
      ]
     },
     "execution_count": 10,
     "metadata": {},
     "output_type": "execute_result"
    }
   ],
   "source": [
    "arr2 = np.linspace(0, np.pi, 12) # 0~3.14 사이의 12개의 요소 배열 생성\n",
    "arr2"
   ]
  },
  {
   "cell_type": "code",
   "execution_count": 11,
   "metadata": {},
   "outputs": [
    {
     "data": {
      "text/plain": [
       "array([[0.        , 0.28559933, 0.57119866, 0.856798  ],\n",
       "       [1.14239733, 1.42799666, 1.71359599, 1.99919533],\n",
       "       [2.28479466, 2.57039399, 2.85599332, 3.14159265]])"
      ]
     },
     "execution_count": 11,
     "metadata": {},
     "output_type": "execute_result"
    }
   ],
   "source": [
    "arr2 = np.linspace(0, np.pi, 12).reshape(3, 4)\n",
    "arr2"
   ]
  },
  {
   "cell_type": "markdown",
   "metadata": {},
   "source": [
    "## 난수 배열 생성하기\n",
    "* **np.random.rand(size)** : [0, 1)사이의 실수 난수 배열 생성\n",
    "> size 없이 그냥 np.random.rand()만 쓰면, [0, 1)사이의 실수 난수 1개 반환\n",
    "* **np.random.randint((low), high, size)** : [low, high)사이의 정수 난수 배열 생성\n",
    "> low 없으면 디폴트 값 0, size 없으면 ~사이의 정수 1개 반환"
   ]
  },
  {
   "cell_type": "code",
   "execution_count": 13,
   "metadata": {},
   "outputs": [
    {
     "data": {
      "text/plain": [
       "0.8903416538331013"
      ]
     },
     "execution_count": 13,
     "metadata": {},
     "output_type": "execute_result"
    }
   ],
   "source": [
    "r_num1 = np.random.rand()\n",
    "r_num1"
   ]
  },
  {
   "cell_type": "code",
   "execution_count": 15,
   "metadata": {},
   "outputs": [
    {
     "data": {
      "text/plain": [
       "array([[0.12637593, 0.87606414, 0.78488788],\n",
       "       [0.19246419, 0.4432112 , 0.76332177]])"
      ]
     },
     "execution_count": 15,
     "metadata": {},
     "output_type": "execute_result"
    }
   ],
   "source": [
    "r_num2 = np.random.rand(2, 3)\n",
    "r_num2"
   ]
  },
  {
   "cell_type": "code",
   "execution_count": 16,
   "metadata": {},
   "outputs": [
    {
     "data": {
      "text/plain": [
       "array([[4, 2, 8, 7],\n",
       "       [0, 1, 6, 1],\n",
       "       [3, 9, 9, 9]])"
      ]
     },
     "execution_count": 16,
     "metadata": {},
     "output_type": "execute_result"
    }
   ],
   "source": [
    "r_num3 = np.random.randint(10, size=(3, 4)) # [0, 10) 사이의 3x4 꼴의 난수 정수 배열\n",
    "r_num3"
   ]
  },
  {
   "cell_type": "code",
   "execution_count": 17,
   "metadata": {},
   "outputs": [
    {
     "data": {
      "text/plain": [
       "1"
      ]
     },
     "execution_count": 17,
     "metadata": {},
     "output_type": "execute_result"
    }
   ],
   "source": [
    "r_num4 = np.random.randint(1, 30) # [1, 30) 사이 정수 난수 1개\n",
    "r_num4"
   ]
  },
  {
   "cell_type": "code",
   "execution_count": 20,
   "metadata": {},
   "outputs": [
    {
     "data": {
      "text/plain": [
       "11"
      ]
     },
     "execution_count": 20,
     "metadata": {},
     "output_type": "execute_result"
    }
   ],
   "source": [
    "r_num4 = np.random.randint(30) # [0, 30) 사이 정수 난수 1개\n",
    "r_num4"
   ]
  },
  {
   "cell_type": "markdown",
   "metadata": {},
   "source": [
    "## 배열 내의 요소 데이터 타입 변환\n",
    "**astype('f') : 실수형으로 변환**\n",
    "> 'b' (bool) / 'i' (signed int) / 'u' (unsigned int) / 'S' or 'a' (byte string)"
   ]
  },
  {
   "cell_type": "code",
   "execution_count": 23,
   "metadata": {},
   "outputs": [
    {
     "name": "stdout",
     "output_type": "stream",
     "text": [
      "<U6\n",
      "[1.567  0.1234 5.123  9.     8.    ]\n",
      "float32\n"
     ]
    }
   ],
   "source": [
    "a_str = np.array(['1.567', '0.1234', '5.123', '9', '8'])\n",
    "print(a_str.dtype) # 유니코드 문자, 배열 항목의 최대 문자('0.1234')개수는 6개! (<U6)\n",
    "a_num = a_str.astype('f')\n",
    "print(a_num)\n",
    "print(a_num.dtype)"
   ]
  },
  {
   "cell_type": "code",
   "execution_count": 24,
   "metadata": {},
   "outputs": [
    {
     "name": "stdout",
     "output_type": "stream",
     "text": [
      "[1.567  0.1234 5.123  9.     8.    ]\n"
     ]
    }
   ],
   "source": [
    "test = a_str.astype('float64') # 'f' 대신 이렇게 풀네임으로 적어도 됨\n",
    "print(test)"
   ]
  },
  {
   "cell_type": "markdown",
   "metadata": {},
   "source": [
    "<hr>"
   ]
  },
  {
   "cell_type": "markdown",
   "metadata": {},
   "source": [
    "## 스스로 해보기"
   ]
  },
  {
   "cell_type": "code",
   "execution_count": 25,
   "metadata": {},
   "outputs": [
    {
     "name": "stdout",
     "output_type": "stream",
     "text": [
      "[1. 2. 3. 4.]\n"
     ]
    }
   ],
   "source": [
    "# a = [1,2,3,4] 리스트를 float 타입 배열 A로 만들기\n",
    "a = [1,2,3,4]\n",
    "A = np.array(a, dtype='float')\n",
    "print(A)"
   ]
  },
  {
   "cell_type": "code",
   "execution_count": 26,
   "metadata": {},
   "outputs": [
    {
     "name": "stdout",
     "output_type": "stream",
     "text": [
      "[1 0 1]\n"
     ]
    }
   ],
   "source": [
    "# b = [True, False, True] 불타입 리스트를 배열 B로 만들고, 정수형으로 출력\n",
    "b = [True, False, True]\n",
    "print(np.array(b).astype('int'))"
   ]
  },
  {
   "cell_type": "code",
   "execution_count": 28,
   "metadata": {
    "scrolled": true
   },
   "outputs": [
    {
     "name": "stdout",
     "output_type": "stream",
     "text": [
      "[[1 2 3]\n",
      " [4 5 6]]\n",
      "[[1 2 3]\n",
      " [4 5 6]]\n"
     ]
    }
   ],
   "source": [
    "# 리스트 데이터로 원소가 [[1,2,3], [4,5,6]]인 2x3 배열 C만들기\n",
    "c1 = [[1,2,3], [4,5,6]]\n",
    "C1 = np.array(c1)\n",
    "print(C1)\n",
    "\n",
    "c2 = list(range(1, 7))\n",
    "C2 = np.array(c2).reshape(2,3)\n",
    "print(C2)"
   ]
  },
  {
   "cell_type": "code",
   "execution_count": 30,
   "metadata": {},
   "outputs": [
    {
     "name": "stdout",
     "output_type": "stream",
     "text": [
      "[[0.71993283 0.18613592 0.27545401 0.37389935 0.36494634]\n",
      " [0.90511021 0.60138836 0.69147985 0.18973838 0.23680467]\n",
      " [0.22015405 0.15991809 0.31410827 0.27196024 0.54784338]\n",
      " [0.72195882 0.4226259  0.39941336 0.4518313  0.11067935]]\n",
      "[[57 86 65 25 26]\n",
      " [92 73 30  9 84]\n",
      " [64 72 47 13 44]\n",
      " [98 92 96 58 18]]\n"
     ]
    }
   ],
   "source": [
    "# [0,1) 범위의 난수 4 x 5 배열 R과 2~100사이의 정수 중 4x5의 난수 배열 G 생성\n",
    "R = np.random.rand(4, 5)\n",
    "G = np.random.randint(2, 100, (4,5))\n",
    "print(R)\n",
    "print(G)"
   ]
  },
  {
   "cell_type": "code",
   "execution_count": 31,
   "metadata": {},
   "outputs": [
    {
     "name": "stdout",
     "output_type": "stream",
     "text": [
      "0.40826913333034787\n",
      "57.45\n",
      "98.72195882067811\n",
      "9.189738381179996\n"
     ]
    }
   ],
   "source": [
    "# R과 G의 각각의 평균값을 구하고 ,R과 G의 합의 최대값과 최소값을 구하기\n",
    "print(R.mean())\n",
    "print(G.mean())\n",
    "print((R+G).max())\n",
    "print((R+G).min())"
   ]
  }
 ],
 "metadata": {
  "kernelspec": {
   "display_name": "Python 3",
   "language": "python",
   "name": "python3"
  },
  "language_info": {
   "codemirror_mode": {
    "name": "ipython",
    "version": 3
   },
   "file_extension": ".py",
   "mimetype": "text/x-python",
   "name": "python",
   "nbconvert_exporter": "python",
   "pygments_lexer": "ipython3",
   "version": "3.7.3"
  }
 },
 "nbformat": 4,
 "nbformat_minor": 2
}
