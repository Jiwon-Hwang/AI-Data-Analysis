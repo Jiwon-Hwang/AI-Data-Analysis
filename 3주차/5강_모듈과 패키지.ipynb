{
 "cells": [
  {
   "cell_type": "markdown",
   "metadata": {},
   "source": [
    "# 모듈 만들고 활용하기"
   ]
  },
  {
   "cell_type": "markdown",
   "metadata": {},
   "source": [
    "## 모듈이란?\n",
    "모듈에 포함된 함수 사용하기 ex (turtle 모듈)"
   ]
  },
  {
   "cell_type": "code",
   "execution_count": 1,
   "metadata": {},
   "outputs": [],
   "source": [
    "import turtle as t\n",
    "\n",
    "t.forward(300) # 거북이 머리 방향으로 300 이동\n",
    "t.right(90) # 거북이 머리 방향 기준 오른쪽으로 90도 방향 전환\n",
    "t.forward(40)"
   ]
  },
  {
   "cell_type": "markdown",
   "metadata": {},
   "source": [
    "![](turtle_right.png)"
   ]
  },
  {
   "cell_type": "markdown",
   "metadata": {},
   "source": [
    "## 나만의 모듈 만들기\n",
    "mycircle 모듈 만들기 (mycircle.py)"
   ]
  },
  {
   "cell_type": "code",
   "execution_count": 1,
   "metadata": {},
   "outputs": [
    {
     "name": "stdout",
     "output_type": "stream",
     "text": [
      "Writing mycircle.py\n"
     ]
    }
   ],
   "source": [
    "%%writefile mycircle.py\n",
    "\n",
    "pi = 3.14\n",
    "\n",
    "# 정사각형 클래스\n",
    "class Square:\n",
    "    크기 = 0\n",
    "    def __init__(self, size):\n",
    "        self.크기 = size\n",
    "        \n",
    "    def 넓이구하기(self):\n",
    "        area = self.크기 * self.크기\n",
    "        print('정사각형의 넓이는', area)\n",
    "        \n",
    "def 원의넓이(r):\n",
    "    결과 = r * r * pi\n",
    "    print('원의 넓이 ', 결과)\n",
    "    \n",
    "def 원의둘레(r):\n",
    "    결과 = 2 * r * pi\n",
    "    print('원의 둘레 ', 결과)"
   ]
  },
  {
   "cell_type": "markdown",
   "metadata": {},
   "source": [
    "mycircle 모듈 임포트"
   ]
  },
  {
   "cell_type": "code",
   "execution_count": 2,
   "metadata": {},
   "outputs": [
    {
     "name": "stdout",
     "output_type": "stream",
     "text": [
      "모듈을 사용하여 원의 넓이와 둘레를 구합니다.\n",
      "원의 넓이  314.0\n",
      "원의 둘레  62.800000000000004\n"
     ]
    }
   ],
   "source": [
    "import mycircle\n",
    "\n",
    "print('모듈을 사용하여 원의 넓이와 둘레를 구합니다.')\n",
    "mycircle.원의넓이(10) # r = 10\n",
    "mycircle.원의둘레(10) "
   ]
  },
  {
   "cell_type": "markdown",
   "metadata": {},
   "source": [
    "circle 모듈을 import하는 aa 모듈을 저장 후 run"
   ]
  },
  {
   "cell_type": "code",
   "execution_count": 3,
   "metadata": {},
   "outputs": [
    {
     "name": "stdout",
     "output_type": "stream",
     "text": [
      "Writing aa.py\n"
     ]
    }
   ],
   "source": [
    "%%writefile aa.py\n",
    "import mycircle\n",
    "\n",
    "print('모듈을 사용하여 원의 넓이와 둘레를 구합니다.')\n",
    "mycircle.원의넓이(10)\n",
    "mycircle.원의둘레(10)"
   ]
  },
  {
   "cell_type": "code",
   "execution_count": 4,
   "metadata": {},
   "outputs": [
    {
     "name": "stdout",
     "output_type": "stream",
     "text": [
      "모듈을 사용하여 원의 넓이와 둘레를 구합니다.\n",
      "원의 넓이  314.0\n",
      "원의 둘레  62.800000000000004\n"
     ]
    }
   ],
   "source": [
    "%run aa.py"
   ]
  },
  {
   "cell_type": "markdown",
   "metadata": {},
   "source": [
    "모듈의 다양한 임포트 방식\n",
    "* import 모듈명 as 별명 \n",
    "    * 별명.함수이름()\n",
    "* **from 모듈명 import ***\n",
    "    * **함수이름()**"
   ]
  },
  {
   "cell_type": "code",
   "execution_count": 5,
   "metadata": {
    "scrolled": true
   },
   "outputs": [
    {
     "name": "stdout",
     "output_type": "stream",
     "text": [
      "원의 넓이  314.0\n",
      "원의 둘레  62.800000000000004\n"
     ]
    }
   ],
   "source": [
    "from mycircle import *\n",
    "\n",
    "원의넓이(10)\n",
    "원의둘레(10)"
   ]
  },
  {
   "cell_type": "markdown",
   "metadata": {},
   "source": [
    "mycircle 모듈 임포트 후 객체 생성"
   ]
  },
  {
   "cell_type": "code",
   "execution_count": 6,
   "metadata": {
    "scrolled": true
   },
   "outputs": [
    {
     "name": "stdout",
     "output_type": "stream",
     "text": [
      "3.14\n",
      "정사각형의 넓이는 25\n",
      "원의 넓이  28.26\n"
     ]
    }
   ],
   "source": [
    "import mycircle as mc\n",
    "\n",
    "print(mc.pi)\n",
    "s1 = mc.Square(5) # self.크기 = 5\n",
    "s1.넓이구하기()\n",
    "\n",
    "mc.원의넓이(3)"
   ]
  },
  {
   "cell_type": "markdown",
   "metadata": {},
   "source": [
    "<hr>"
   ]
  },
  {
   "cell_type": "markdown",
   "metadata": {},
   "source": [
    "# 패키지 만들고 활용하기"
   ]
  },
  {
   "cell_type": "markdown",
   "metadata": {},
   "source": [
    "## 패키지란?\n",
    "* **모듈** : 어떤 목적을 위해 누군가 만든 소스코드가 저장된 파일 (**.py**)\n",
    "```py\n",
    "%%writefile mycircle.py # 모듈 만들기\n",
    "import mycircle # 모듈 불러오기\n",
    "```\n",
    "* **패키지** : 여러 모듈들(.py)을 체계적으로 모아 만든 꾸러미 (**폴더**)\n",
    "```py\n",
    "%mkdir mypackage # 패키지 만들기 (폴더)\n",
    "import mypackage.mycircle.원의넓이(10) # 패키지에 포함된 모듈의 함수 불러오기\n",
    "```"
   ]
  },
  {
   "cell_type": "markdown",
   "metadata": {},
   "source": [
    "## 패키지 만들기"
   ]
  },
  {
   "cell_type": "markdown",
   "metadata": {},
   "source": [
    "mypackage 패키지 (폴더) 만들기"
   ]
  },
  {
   "cell_type": "code",
   "execution_count": 7,
   "metadata": {},
   "outputs": [],
   "source": [
    "%mkdir mypackage"
   ]
  },
  {
   "cell_type": "markdown",
   "metadata": {},
   "source": [
    "mycircle와 mymodule 모듈 만들고, mypackage 패키지 안으로 옮기기"
   ]
  },
  {
   "cell_type": "code",
   "execution_count": 9,
   "metadata": {},
   "outputs": [
    {
     "name": "stdout",
     "output_type": "stream",
     "text": [
      "Overwriting mycircle.py\n"
     ]
    }
   ],
   "source": [
    "%%writefile mycircle.py\n",
    "\n",
    "pi = 3.14\n",
    "\n",
    "def 원의넓이(r):\n",
    "    결과 = r * r * pi\n",
    "    print('원의 넓이 ', 결과)\n",
    "    \n",
    "def 원의둘레(r):\n",
    "    결과 = 2 * r * pi\n",
    "    print('원의 둘레 ', 결과)"
   ]
  },
  {
   "cell_type": "code",
   "execution_count": 10,
   "metadata": {},
   "outputs": [
    {
     "name": "stdout",
     "output_type": "stream",
     "text": [
      "Writing mymodule.py\n"
     ]
    }
   ],
   "source": [
    "%%writefile mymodule.py\n",
    "\n",
    "class Square:\n",
    "    크기 = 0\n",
    "    def __init__(self, size):\n",
    "        self.크기 = size\n",
    "        \n",
    "    def 넓이구하기(self):\n",
    "        area = self.크기 * self.크기\n",
    "        print('정사각형의 넓이는', area)"
   ]
  },
  {
   "cell_type": "markdown",
   "metadata": {},
   "source": [
    "## 패키지 임포트하기"
   ]
  },
  {
   "cell_type": "code",
   "execution_count": 11,
   "metadata": {},
   "outputs": [
    {
     "name": "stdout",
     "output_type": "stream",
     "text": [
      "모듈을 사용하여 원의 넓이와 둘레를 구합니다.\n",
      "원의 넓이  314.0\n",
      "원의 둘레  62.800000000000004\n"
     ]
    }
   ],
   "source": [
    "import mypackage.mycircle\n",
    "\n",
    "print('모듈을 사용하여 원의 넓이와 둘레를 구합니다.')\n",
    "mypackage.mycircle.원의넓이(10)\n",
    "mypackage.mycircle.원의둘레(10)"
   ]
  },
  {
   "cell_type": "code",
   "execution_count": 13,
   "metadata": {},
   "outputs": [
    {
     "name": "stdout",
     "output_type": "stream",
     "text": [
      "정사각형의 넓이는 25\n"
     ]
    }
   ],
   "source": [
    "import mypackage.mymodule\n",
    "\n",
    "s1 = mypackage.mymodule.Square(5)\n",
    "s1.넓이구하기()"
   ]
  },
  {
   "cell_type": "code",
   "execution_count": 14,
   "metadata": {},
   "outputs": [
    {
     "name": "stdout",
     "output_type": "stream",
     "text": [
      "정사각형의 넓이는 25\n"
     ]
    }
   ],
   "source": [
    "import mypackage.mymodule as md\n",
    "\n",
    "s1 = md.Square(5)\n",
    "s1.넓이구하기()"
   ]
  },
  {
   "cell_type": "code",
   "execution_count": 15,
   "metadata": {},
   "outputs": [
    {
     "name": "stdout",
     "output_type": "stream",
     "text": [
      "3.14\n",
      "원의 넓이  314.0\n",
      "원의 둘레  62.800000000000004\n"
     ]
    }
   ],
   "source": [
    "import mypackage.mycircle as mc\n",
    "\n",
    "print(mc.pi)\n",
    "mc.원의넓이(10)\n",
    "mc.원의둘레(10)"
   ]
  }
 ],
 "metadata": {
  "kernelspec": {
   "display_name": "Python 3",
   "language": "python",
   "name": "python3"
  },
  "language_info": {
   "codemirror_mode": {
    "name": "ipython",
    "version": 3
   },
   "file_extension": ".py",
   "mimetype": "text/x-python",
   "name": "python",
   "nbconvert_exporter": "python",
   "pygments_lexer": "ipython3",
   "version": "3.7.3"
  }
 },
 "nbformat": 4,
 "nbformat_minor": 2
}
