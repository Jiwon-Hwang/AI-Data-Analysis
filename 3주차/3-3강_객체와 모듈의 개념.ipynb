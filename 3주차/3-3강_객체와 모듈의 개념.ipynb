{
 "cells": [
  {
   "cell_type": "markdown",
   "metadata": {},
   "source": [
    "## 모듈이란?\n",
    "* 어떤 목적을 위해 누군가 만든 **소스코드가 저장된 파일**\n",
    "* 다른 소스코드에서도 이 모듈 파일의 변수, 함수, 클래스를 불러와 쓸 수 있음\n",
    "* 모듈 : **.py** 확장자로 저장 \n",
    "    * ex. math 모듈 : math.py파일로 저장되어 있음"
   ]
  },
  {
   "cell_type": "markdown",
   "metadata": {},
   "source": [
    "## 파이썬의 대표적인 모듈\n",
    "* math, time\n",
    "* turtle\n",
    "* datetime"
   ]
  },
  {
   "cell_type": "markdown",
   "metadata": {},
   "source": [
    "### math와 time 모듈"
   ]
  },
  {
   "cell_type": "code",
   "execution_count": 1,
   "metadata": {},
   "outputs": [
    {
     "name": "stdout",
     "output_type": "stream",
     "text": [
      "0.8939966636005579\n",
      "2.23606797749979\n",
      "120\n",
      "잠깐 쉬는 함수입니다.\n"
     ]
    }
   ],
   "source": [
    "import math\n",
    "\n",
    "print(math.sin(90)) # 사인함수 호출\n",
    "print(math.sqrt(5)) # 루트 5값을 구하는 함수\n",
    "print(math.factorial(5)) # 5!\n",
    "\n",
    "import time\n",
    "time.sleep(3)\n",
    "print('잠깐 쉬는 함수입니다.') # 3초동안 [*]로 표시되면서 실행 지속됨"
   ]
  },
  {
   "cell_type": "markdown",
   "metadata": {},
   "source": [
    "### datetime 모듈\n",
    "출생연도, 월, 일을 입력 받아 생일의 요일(date)을 알려주는 프로그램\n",
    "> **date = datetime.date(year, month, day)**"
   ]
  },
  {
   "cell_type": "code",
   "execution_count": 2,
   "metadata": {},
   "outputs": [
    {
     "name": "stdout",
     "output_type": "stream",
     "text": [
      "몇 년도에 태어났나요? 2000\n",
      "몇 월에 태어났나요? 3\n",
      "몇 일에 태어났나요? 25\n",
      "토 요일에 태어났군요.\n"
     ]
    }
   ],
   "source": [
    "from datetime import date\n",
    "\n",
    "week = ['월', '화', '수', '목', '금', '토', '일']\n",
    "\n",
    "year = int(input('몇 년도에 태어났나요? '))\n",
    "month = int(input('몇 월에 태어났나요? '))\n",
    "day = int(input('몇 일에 태어났나요? '))\n",
    "\n",
    "birthday = date(year, month, day)\n",
    "\n",
    "index = birthday.weekday()\n",
    "print(week[index], '요일에 태어났군요.')"
   ]
  },
  {
   "cell_type": "markdown",
   "metadata": {},
   "source": [
    "### turtle 모듈\n",
    "turtle 모듈을 이용하여 도형그리기"
   ]
  },
  {
   "cell_type": "code",
   "execution_count": 4,
   "metadata": {},
   "outputs": [],
   "source": [
    "import turtle\n",
    "t1 = turtle.Turtle() # turtle모듈의 Turtle()클래스로 t1 객체 생성\n",
    "t2 = turtle.Turtle()\n",
    "\n",
    "t1.shape('turtle') # t1의 아이콘 모양을 turtle(거북이) 모양으로 바꿈 (기본 : 화살표)\n",
    "t1.color('red') # 거북이 색깔은 빨간색으로\n",
    "t1.circle(100) # 반지름이 100인 원 그리기\n",
    "t1.forward(200) # 거북이 머리 방향(앞으로) 100만큼 이동\n",
    "t1.circle(100) # 반지름이 100인 원 그리기\n",
    "\n",
    "t2.shape('turtle')\n",
    "t2.color('blue')\n",
    "t2.circle(50)\n",
    "t2.forward(200)\n",
    "t2.circle(50)"
   ]
  },
  {
   "cell_type": "markdown",
   "metadata": {},
   "source": [
    "![](turtle.png)"
   ]
  },
  {
   "cell_type": "markdown",
   "metadata": {},
   "source": [
    "## numpy 패키지 소개\n",
    "* NumPy : Numerical Python, 고성능 수치 계산을 쉽고 빠르게 할 수 있도록 하는 패키지\n",
    "* np.array \n",
    "    * **같은 종류(같은 데이터 타입)의 데이터만 저장 가능**\n",
    "    * **배열의 크기 고정** (생성 후 원소 개수 바꿀 수 X)  \n",
    "    * 리스트보다 **작은 메모리** 차지, 빠른 데이터 처리 가능"
   ]
  },
  {
   "cell_type": "markdown",
   "metadata": {},
   "source": [
    "### [ list vs ndarray 배열 크기 차이 ]\n",
    "> * **list, tuple** 등의 시퀀스 자료형은 **서로 다른 데이터타입**을 저장할 수 있고, **크기가 자동으로 커질 수 있다.**\n",
    "* **ndarray**는 성능향상을 위해 **같은 데이터타입만**을 요소로 가질 수 있고, **크기 역시 고정**되어 있다. 만약 크기를 변경하면 ***새로 메모리에 할당되고 이전 값은 삭제된다.***"
   ]
  },
  {
   "cell_type": "code",
   "execution_count": 1,
   "metadata": {
    "scrolled": true
   },
   "outputs": [
    {
     "name": "stdout",
     "output_type": "stream",
     "text": [
      "[10, 20, 30, 40, 50, 60, 1, 2, 3, 4, 5, 6]\n",
      "[10, 20, 30, 40, 50, 60, 10, 20, 30, 40, 50, 60, 10, 20, 30, 40, 50, 60]\n"
     ]
    }
   ],
   "source": [
    "# Python list ex\n",
    "a = [10, 20, 30, 40, 50, 60]\n",
    "b = [1, 2, 3, 4, 5, 6]\n",
    "\n",
    "print(a+b) # 이어붙이기\n",
    "print(a*3)"
   ]
  },
  {
   "cell_type": "code",
   "execution_count": 2,
   "metadata": {},
   "outputs": [
    {
     "name": "stdout",
     "output_type": "stream",
     "text": [
      "[11, 22, 33, 44, 55, 66]\n",
      "[30, 60, 90, 120, 150, 180]\n"
     ]
    }
   ],
   "source": [
    "c = []\n",
    "d = []\n",
    "\n",
    "for i in range(0, 6, 1):\n",
    "    c.append(a[i] + b[i])\n",
    "    d.append(a[i]*3)\n",
    "    \n",
    "print(c)\n",
    "print(d)"
   ]
  },
  {
   "cell_type": "code",
   "execution_count": 3,
   "metadata": {},
   "outputs": [
    {
     "name": "stdout",
     "output_type": "stream",
     "text": [
      "[11 22 33 44 55 66]\n",
      "[ 3  6  9 12 15 18]\n"
     ]
    }
   ],
   "source": [
    "# NumPy array ex\n",
    "import numpy as np\n",
    "\n",
    "num1 = np.array([1,2,3,4,5,6]) # num1 = np.array(range(1, 6))\n",
    "num2 = np.array([10,20,30,40,50,60]) # num2 = np.array(range(10,70,10))\n",
    "\n",
    "print(num1 + num2) # 각 위치 요소끼리 더하기\n",
    "print(num1 * 3)"
   ]
  }
 ],
 "metadata": {
  "kernelspec": {
   "display_name": "Python 3",
   "language": "python",
   "name": "python3"
  },
  "language_info": {
   "codemirror_mode": {
    "name": "ipython",
    "version": 3
   },
   "file_extension": ".py",
   "mimetype": "text/x-python",
   "name": "python",
   "nbconvert_exporter": "python",
   "pygments_lexer": "ipython3",
   "version": "3.7.3"
  }
 },
 "nbformat": 4,
 "nbformat_minor": 2
}
