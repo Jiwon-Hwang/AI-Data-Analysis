{
 "cells": [
  {
   "cell_type": "markdown",
   "metadata": {},
   "source": [
    "## 모듈이란?\n",
    "* 어떤 목적을 위해 누군가 만든 **소스코드가 저장된 파일**\n",
    "* 다른 소스코드에서도 이 모듈 파일의 변수, 함수, 클래스를 불러와 쓸 수 있음\n",
    "* 모듈 : **.py** 확장자로 저장 \n",
    "    * ex. math 모듈 : math.py파일로 저장되어 있음"
   ]
  },
  {
   "cell_type": "markdown",
   "metadata": {},
   "source": [
    "## 파이썬의 대표적인 모듈\n",
    "* math, time"
   ]
  }
 ],
 "metadata": {
  "kernelspec": {
   "display_name": "Python 3",
   "language": "python",
   "name": "python3"
  },
  "language_info": {
   "codemirror_mode": {
    "name": "ipython",
    "version": 3
   },
   "file_extension": ".py",
   "mimetype": "text/x-python",
   "name": "python",
   "nbconvert_exporter": "python",
   "pygments_lexer": "ipython3",
   "version": "3.7.3"
  }
 },
 "nbformat": 4,
 "nbformat_minor": 2
}
