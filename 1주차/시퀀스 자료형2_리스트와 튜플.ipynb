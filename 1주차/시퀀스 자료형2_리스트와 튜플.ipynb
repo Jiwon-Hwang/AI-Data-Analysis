{
 "cells": [
  {
   "cell_type": "markdown",
   "metadata": {},
   "source": [
    "# 리스트와 튜플"
   ]
  },
  {
   "cell_type": "markdown",
   "metadata": {},
   "source": [
    "## 리스트\n",
    "리스트의 각 항목의 데이터 타입은 같지 않아도 됨. (숫자, 문자열, 불, 리스트 등)"
   ]
  },
  {
   "cell_type": "code",
   "execution_count": 1,
   "metadata": {},
   "outputs": [
    {
     "name": "stdout",
     "output_type": "stream",
     "text": [
      "[-4, -2, 0, 2, 4, 6, 8]\n"
     ]
    }
   ],
   "source": [
    "# range를 사용하여 리스트 만들기\n",
    "\n",
    "a = list(range(-4, 10, 2)) # range(start, end, step)\n",
    "print(a)"
   ]
  },
  {
   "cell_type": "markdown",
   "metadata": {},
   "source": [
    "## 리스트 다루기"
   ]
  },
  {
   "cell_type": "code",
   "execution_count": 2,
   "metadata": {},
   "outputs": [
    {
     "name": "stdout",
     "output_type": "stream",
     "text": [
      "[1, 2, 3, 4, 5, 6, 7, 8]\n",
      "[1, 2, 3, 4, 1, 2, 3, 4, 1, 2, 3, 4]\n"
     ]
    }
   ],
   "source": [
    "# 더하기 및 곱하기\n",
    "\n",
    "list_con1 = [1, 2, 3, 4]\n",
    "list_con2 = [5, 6, 7, 8]\n",
    "list_con3 = list_con1 + list_con2 # 리스트 연결\n",
    "print(list_con3)\n",
    "\n",
    "list_con4 = list_con1 * 3 # 리스트 반복 (덧셈 여러번)\n",
    "print(list_con4)"
   ]
  },
  {
   "cell_type": "code",
   "execution_count": 3,
   "metadata": {},
   "outputs": [
    {
     "name": "stdout",
     "output_type": "stream",
     "text": [
      "[0, 10, 20, 30, 40, 50, 60, 70, 80, 90]\n"
     ]
    },
    {
     "data": {
      "text/plain": [
       "[10, 30, 50, 70]"
      ]
     },
     "execution_count": 3,
     "metadata": {},
     "output_type": "execute_result"
    }
   ],
   "source": [
    "# 리스트 슬라이싱\n",
    "\n",
    "a = list(range(0, 100, 10))\n",
    "print(a)\n",
    "a[1:9:2] # 인덱스 1부터 9-1까지 step = 2로 가져오기"
   ]
  },
  {
   "cell_type": "markdown",
   "metadata": {},
   "source": [
    "## (실습) 리스트 다루기\n",
    "'James', 'Robert', 'Lisa', 'Mary' 를 데이터로 갖는 myFriends 리스트 생성\n",
    "* myFriends 리스트에서 맨 끝에 'Laura'와 'Betty' 추가\n",
    "* myFriends 리스트에서 2번째 자리에 'Judy' 삽입\n",
    "* myFriends 리스트 순방향 정렬\n",
    "* myFriends 리스트 역방향 정렬\n",
    "* myFriends 리스트의 'Lisa' 항목의 개수와 처음 나오는 위치 찾기"
   ]
  },
  {
   "cell_type": "code",
   "execution_count": 4,
   "metadata": {},
   "outputs": [],
   "source": [
    "myFriends = ['James', 'Robert', 'Lisa', 'Mary']"
   ]
  },
  {
   "cell_type": "markdown",
   "metadata": {},
   "source": [
    "cf. \n",
    "> * **append()** : 하나의 요소만 추가 가능  \n",
    "> * **extend()** : 여러 요소를 가진 리스트 추가 가능"
   ]
  },
  {
   "cell_type": "code",
   "execution_count": 5,
   "metadata": {},
   "outputs": [
    {
     "name": "stdout",
     "output_type": "stream",
     "text": [
      "['James', 'Robert', 'Lisa', 'Mary', 'Laura', 'Betty']\n"
     ]
    }
   ],
   "source": [
    "# 1-1. append(), +\n",
    "\n",
    "myFriends.append('Laura')\n",
    "myFriends += ['Betty']\n",
    "print(myFriends)"
   ]
  },
  {
   "cell_type": "code",
   "execution_count": 11,
   "metadata": {},
   "outputs": [
    {
     "name": "stdout",
     "output_type": "stream",
     "text": [
      "['James', 'Robert', 'Lisa', 'Mary', 'Laura', 'Betty']\n"
     ]
    }
   ],
   "source": [
    "# 1-2. extend()\n",
    "\n",
    "myFriends = ['James', 'Robert', 'Lisa', 'Mary']\n",
    "myFriends.extend(['Laura', 'Betty'])\n",
    "print(myFriends)"
   ]
  },
  {
   "cell_type": "markdown",
   "metadata": {},
   "source": [
    "cf. **바로 출력**하고 싶을 때 (print 대신)\n",
    "```py\n",
    "myFriends = ['James', 'Robert', 'Lisa', 'Mary']\n",
    "myFriends.extend(['Laura', 'Betty']); myFriends \n",
    "```\n",
    "> 이렇게 **' ; '** 뒤에 바로 변수명 (ex. 리스트명) 적어주면 된다!"
   ]
  },
  {
   "cell_type": "code",
   "execution_count": 7,
   "metadata": {},
   "outputs": [
    {
     "name": "stdout",
     "output_type": "stream",
     "text": [
      "['James', 'Robert', 'Judy', 'Lisa', 'Mary', 'Laura', 'Betty']\n"
     ]
    }
   ],
   "source": [
    "# 2. insert()\n",
    "\n",
    "myFriends.insert(2, 'Judy')\n",
    "print(myFriends)"
   ]
  },
  {
   "cell_type": "code",
   "execution_count": 8,
   "metadata": {},
   "outputs": [
    {
     "name": "stdout",
     "output_type": "stream",
     "text": [
      "['Betty', 'James', 'Judy', 'Laura', 'Lisa', 'Mary', 'Robert']\n"
     ]
    }
   ],
   "source": [
    "# 3. sort()\n",
    "\n",
    "myFriends.sort()\n",
    "print(myFriends)"
   ]
  },
  {
   "cell_type": "code",
   "execution_count": 9,
   "metadata": {},
   "outputs": [
    {
     "name": "stdout",
     "output_type": "stream",
     "text": [
      "['Robert', 'Mary', 'Lisa', 'Laura', 'Judy', 'James', 'Betty']\n"
     ]
    }
   ],
   "source": [
    "# 4. reverse()\n",
    "\n",
    "myFriends.reverse()\n",
    "print(myFriends)"
   ]
  },
  {
   "cell_type": "code",
   "execution_count": 10,
   "metadata": {},
   "outputs": [
    {
     "name": "stdout",
     "output_type": "stream",
     "text": [
      "1\n",
      "2\n"
     ]
    }
   ],
   "source": [
    "# 5. count(), index()\n",
    "\n",
    "print(myFriends.count('Lisa'))\n",
    "print(myFriends.index('Lisa'))"
   ]
  },
  {
   "cell_type": "markdown",
   "metadata": {},
   "source": [
    "<hr>"
   ]
  },
  {
   "cell_type": "markdown",
   "metadata": {},
   "source": [
    "## 튜플\n",
    "튜플의 속성은 리스트와 유사하지만, **튜플 데이터는 한번 입력(생성)하면 그 이후에는 항목 변경 불가!!**"
   ]
  },
  {
   "cell_type": "code",
   "execution_count": 14,
   "metadata": {},
   "outputs": [
    {
     "name": "stdout",
     "output_type": "stream",
     "text": [
      "(1, 2, 3, 4) (1, 2, 3, 4)\n"
     ]
    }
   ],
   "source": [
    "# 튜플 만들기 (소괄호 사용하거나, 사용하지 않아도 됨)\n",
    "\n",
    "tuple1 = (1, 2, 3, 4)\n",
    "tuple2 = 1, 2, 3, 4\n",
    "\n",
    "print(tuple1, tuple2)"
   ]
  },
  {
   "cell_type": "code",
   "execution_count": 15,
   "metadata": {},
   "outputs": [
    {
     "name": "stdout",
     "output_type": "stream",
     "text": [
      "()\n"
     ]
    }
   ],
   "source": [
    "# 빈 튜플 생성\n",
    "\n",
    "a = ()\n",
    "a = tuple()\n",
    "print(a)"
   ]
  },
  {
   "cell_type": "code",
   "execution_count": 16,
   "metadata": {},
   "outputs": [
    {
     "name": "stdout",
     "output_type": "stream",
     "text": [
      "(9,) (10,)\n"
     ]
    }
   ],
   "source": [
    "# 인자가 하나만 있는 튜플 생성\n",
    "\n",
    "tuple3 = (9,) # ***반드시 콤마(,) 필요!!***\n",
    "tuple4 = 10,\n",
    "print(tuple3, tuple4)"
   ]
  },
  {
   "cell_type": "code",
   "execution_count": 17,
   "metadata": {},
   "outputs": [
    {
     "data": {
      "text/plain": [
       "(-4, -2, 0, 2, 4, 6, 8)"
      ]
     },
     "execution_count": 17,
     "metadata": {},
     "output_type": "execute_result"
    }
   ],
   "source": [
    "# range를 사용하여 튜플 만들기\n",
    "\n",
    "a = tuple(range(-4, 10, 2))\n",
    "a"
   ]
  },
  {
   "cell_type": "markdown",
   "metadata": {},
   "source": [
    "## 튜플 다루기\n",
    "한 번 생성한 후에 **요소를 변경할 필요가 없거나, 변경할 수 없도록 할 때** 이용  \n",
    "(인덱스로 값 접근만 가능. **읽기 전용 자료형**)"
   ]
  },
  {
   "cell_type": "code",
   "execution_count": 18,
   "metadata": {},
   "outputs": [
    {
     "ename": "TypeError",
     "evalue": "'type' object does not support item assignment",
     "output_type": "error",
     "traceback": [
      "\u001b[1;31m---------------------------------------------------------------------------\u001b[0m",
      "\u001b[1;31mTypeError\u001b[0m                                 Traceback (most recent call last)",
      "\u001b[1;32m<ipython-input-18-b678c16a5129>\u001b[0m in \u001b[0;36m<module>\u001b[1;34m\u001b[0m\n\u001b[0;32m      2\u001b[0m \u001b[1;33m\u001b[0m\u001b[0m\n\u001b[0;32m      3\u001b[0m \u001b[0mtuple5\u001b[0m \u001b[1;33m=\u001b[0m \u001b[1;33m(\u001b[0m\u001b[1;36m1\u001b[0m\u001b[1;33m,\u001b[0m \u001b[1;36m2\u001b[0m\u001b[1;33m,\u001b[0m \u001b[1;36m3\u001b[0m\u001b[1;33m,\u001b[0m \u001b[1;36m4\u001b[0m\u001b[1;33m)\u001b[0m\u001b[1;33m\u001b[0m\u001b[1;33m\u001b[0m\u001b[0m\n\u001b[1;32m----> 4\u001b[1;33m \u001b[0mtuple\u001b[0m\u001b[1;33m[\u001b[0m\u001b[1;36m1\u001b[0m\u001b[1;33m]\u001b[0m \u001b[1;33m=\u001b[0m \u001b[1;36m5\u001b[0m\u001b[1;33m\u001b[0m\u001b[1;33m\u001b[0m\u001b[0m\n\u001b[0m",
      "\u001b[1;31mTypeError\u001b[0m: 'type' object does not support item assignment"
     ]
    }
   ],
   "source": [
    "# 튜플의 요소를 변경하고자 할 경우 ==> error!\n",
    "\n",
    "tuple5 = (1, 2, 3, 4)\n",
    "tuple[1] = 5"
   ]
  },
  {
   "cell_type": "code",
   "execution_count": 19,
   "metadata": {},
   "outputs": [
    {
     "name": "stdout",
     "output_type": "stream",
     "text": [
      "0\n",
      "1\n"
     ]
    }
   ],
   "source": [
    "# 튜플에서 함수 사용 ==> 값 변경하는 함수는 사용 불가. 값 접근해 반환하는 함수만 가능\n",
    "\n",
    "tuple6 = ('a', 'b', 'c', 'd', 'e', 'f')\n",
    "print(tuple6.index('a'))\n",
    "print(tuple6.count('a'))"
   ]
  }
 ],
 "metadata": {
  "kernelspec": {
   "display_name": "Python 3",
   "language": "python",
   "name": "python3"
  },
  "language_info": {
   "codemirror_mode": {
    "name": "ipython",
    "version": 3
   },
   "file_extension": ".py",
   "mimetype": "text/x-python",
   "name": "python",
   "nbconvert_exporter": "python",
   "pygments_lexer": "ipython3",
   "version": "3.7.3"
  }
 },
 "nbformat": 4,
 "nbformat_minor": 2
}
