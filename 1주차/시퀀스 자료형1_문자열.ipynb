{
 "cells": [
  {
   "cell_type": "markdown",
   "metadata": {},
   "source": [
    "# 문자열 내장 함수들"
   ]
  },
  {
   "cell_type": "markdown",
   "metadata": {},
   "source": [
    "## 문자열 슬라이싱 ([:])"
   ]
  },
  {
   "cell_type": "markdown",
   "metadata": {},
   "source": [
    "### 주민등록번호 해석하기\n",
    "주민번호 앞자리 6자리를 입력 받아 출생연도, 생일, 나이를 출력해주는 프로그램을 작성하시오. 2000년 이후 출생자의 주민번호를 입력 받는 것으로 가정한다."
   ]
  },
  {
   "cell_type": "code",
   "execution_count": 4,
   "metadata": {
    "scrolled": true
   },
   "outputs": [
    {
     "name": "stdout",
     "output_type": "stream",
     "text": [
      "주민번호 앞자리 입력 :021225\n",
      "당신은 2002 년에 태어났군요.\n",
      "당신의 생일은 12 월 25 일 이군요.\n",
      "당신은 올해 19 살 이군요.\n"
     ]
    }
   ],
   "source": [
    "num = input('주민번호 앞자리 입력 : ')\n",
    "\n",
    "print('당신은 20%s 년에 태어났군요.'%num[:2])\n",
    "print('당신의 생일은 %s 월 %s 일 이군요.'%(num[2:4], num[4:]))\n",
    "print('당신은 올해 %d 살 이군요.'%(21-int(num[:2])))"
   ]
  },
  {
   "cell_type": "markdown",
   "metadata": {},
   "source": [
    "## 문자열 분리하기 (split())\n",
    "**split()** : 만약 구분자를 입력하지 않으면(**디폴트**), 문자열 사이의 모든 **공백(' ')과 개행문자('\\n')** 를 없애서 분리된 문자열 리스트를 반환"
   ]
  },
  {
   "cell_type": "code",
   "execution_count": 1,
   "metadata": {},
   "outputs": [
    {
     "data": {
      "text/plain": [
       "['에스프레소', '아메리카노', '카페라테', '카푸치노']"
      ]
     },
     "execution_count": 1,
     "metadata": {},
     "output_type": "execute_result"
    }
   ],
   "source": [
    " '에스프레소 \\n\\n 아메리카노 \\n 카페라테 카푸치노 \\n\\n'.split()"
   ]
  },
  {
   "cell_type": "markdown",
   "metadata": {},
   "source": [
    "**split(maxsplit=n)** : 구분자를 기준으로, **지정한 횟수만큼** 없애고 분리"
   ]
  },
  {
   "cell_type": "code",
   "execution_count": 2,
   "metadata": {},
   "outputs": [
    {
     "data": {
      "text/plain": [
       "['에스프레소', '아메리카노', '카페라테 카푸치노 \\n\\n']"
      ]
     },
     "execution_count": 2,
     "metadata": {},
     "output_type": "execute_result"
    }
   ],
   "source": [
    "'에스프레소 \\n\\n 아메리카노 \\n 카페라테 카푸치노 \\n\\n'.split(maxsplit = 2)"
   ]
  },
  {
   "cell_type": "markdown",
   "metadata": {},
   "source": [
    "## 필요없는 문자열 삭제하기 (strip())\n",
    "**strip()** : 문자열의 **앞 뒤에서 동시에 시작하여** 지정한 문자외의 **다른 문자를 만날 때까지 지정한 문자를 모두 삭제**"
   ]
  },
  {
   "cell_type": "code",
   "execution_count": 3,
   "metadata": {},
   "outputs": [
    {
     "data": {
      "text/plain": [
       "'Python'"
      ]
     },
     "execution_count": 3,
     "metadata": {},
     "output_type": "execute_result"
    }
   ],
   "source": [
    "'aaaPythonaaa'.strip('a')"
   ]
  },
  {
   "cell_type": "code",
   "execution_count": 4,
   "metadata": {},
   "outputs": [
    {
     "data": {
      "text/plain": [
       "'Python'"
      ]
     },
     "execution_count": 4,
     "metadata": {},
     "output_type": "execute_result"
    }
   ],
   "source": [
    "test_str = 'aaabbPythonbbbaa'\n",
    "test_str.strip('ab') # 문자열 앞 뒤의 'a'와 'b'들 제거, strip('ba')와 동일 (순서 무관)"
   ]
  },
  {
   "cell_type": "markdown",
   "metadata": {},
   "source": [
    "strip() : 인자에 아무것도 안넣으면(**디폴트**), 앞뒤에서 모든 **공백(' ')과 개행문자('\\n')** 를 없애줌"
   ]
  },
  {
   "cell_type": "code",
   "execution_count": 5,
   "metadata": {},
   "outputs": [
    {
     "data": {
      "text/plain": [
       "'This is very \\n fast.'"
      ]
     },
     "execution_count": 5,
     "metadata": {},
     "output_type": "execute_result"
    }
   ],
   "source": [
    "'\\n This is very \\n fast. \\n\\n'.strip()"
   ]
  },
  {
   "cell_type": "markdown",
   "metadata": {},
   "source": [
    "**lstrip() & rstrip()** : 왼쪽과 오른쪽 한쪽에서만 특정 문자 삭제하기"
   ]
  },
  {
   "cell_type": "code",
   "execution_count": 6,
   "metadata": {},
   "outputs": [
    {
     "name": "stdout",
     "output_type": "stream",
     "text": [
      "Python is easy to learn.\n",
      "Python is easy to learn.000\n",
      "000Python is easy to learn.\n"
     ]
    }
   ],
   "source": [
    "str_lr = '000Python is easy to learn.000'\n",
    "print(str_lr.strip('0'))\n",
    "print(str_lr.lstrip('0')) # lstrip() : 문자열 왼쪽의 '0'만 삭제\n",
    "print(str_lr.rstrip('0')) # rstrip() : 문자열 오른쪽의 '0'만 삭제"
   ]
  },
  {
   "cell_type": "markdown",
   "metadata": {},
   "source": [
    "## 문자열 연결하기 (join())\n",
    "**join()** : 특정 구분자 문자열을 넣어서 이어붙인 문자열로 반환"
   ]
  },
  {
   "cell_type": "code",
   "execution_count": 7,
   "metadata": {},
   "outputs": [
    {
     "data": {
      "text/plain": [
       "'서울시 서초구 반포대로 201(반포동)'"
      ]
     },
     "execution_count": 7,
     "metadata": {},
     "output_type": "execute_result"
    }
   ],
   "source": [
    "address_list = ['서울시', '서초구', '반포대로', '201(반포동)']\n",
    "a = ' '\n",
    "a.join(address_list)"
   ]
  },
  {
   "cell_type": "code",
   "execution_count": 8,
   "metadata": {},
   "outputs": [
    {
     "data": {
      "text/plain": [
       "'서울시,서초구,반포대로,201(반포동)'"
      ]
     },
     "execution_count": 8,
     "metadata": {},
     "output_type": "execute_result"
    }
   ],
   "source": [
    "','.join(address_list)"
   ]
  },
  {
   "cell_type": "markdown",
   "metadata": {},
   "source": [
    "## 문자열 찾기 (find())\n",
    "**find()** : 찾으려는 검색 문자열과 **첫번째로 일치하는 문자열 인덱스** 반환"
   ]
  },
  {
   "cell_type": "code",
   "execution_count": 9,
   "metadata": {},
   "outputs": [
    {
     "name": "stdout",
     "output_type": "stream",
     "text": [
      "0\n",
      "7\n",
      "4\n",
      "-1\n"
     ]
    }
   ],
   "source": [
    "str_f = 'Python code.'\n",
    "print(str_f.find('Python'))\n",
    "print(str_f.find('code'))\n",
    "print(str_f.find('o'))\n",
    "print(str_f.find('?')) # 없으면 -1 반환"
   ]
  },
  {
   "cell_type": "markdown",
   "metadata": {},
   "source": [
    "## 문자열 찾기 (count())\n",
    "**count(str, start, end)** : 문자열 **일치 횟수** 반환 (찾기 시작할 위치, 끝 위치 범위 지정 가능)"
   ]
  },
  {
   "cell_type": "code",
   "execution_count": 11,
   "metadata": {},
   "outputs": [
    {
     "name": "stdout",
     "output_type": "stream",
     "text": [
      "Python의 개수는? : 3\n",
      "powerful의 개수는? : 1\n",
      "2\n"
     ]
    }
   ],
   "source": [
    "str_c = 'Python is powerful. Python is easy to learn. Python is open.'\n",
    "print('Python의 개수는? :', str_c.count('Python'))\n",
    "print('powerful의 개수는? :', str_c.count('powerful'))\n",
    "print(str_c.count('Python', 1)) # 1번 위치부터 python 찾기"
   ]
  },
  {
   "cell_type": "markdown",
   "metadata": {},
   "source": [
    "## 문자열 바꾸기 (replace())\n",
    "**replace(old, new, count)** : old를 찾아서 new로 count횟수 만큼 바꿈"
   ]
  },
  {
   "cell_type": "code",
   "execution_count": 12,
   "metadata": {},
   "outputs": [
    {
     "name": "stdout",
     "output_type": "stream",
     "text": [
      "IPython is powerful. IPython is easy to learn. IPython is open.\n",
      "IPython is powerful. IPython is easy to learn. Python is open.\n",
      " is powerful.  is easy to learn. Python is open.\n"
     ]
    }
   ],
   "source": [
    "str_a = 'Python is powerful. Python is easy to learn. Python is open.'\n",
    "print(str_a.replace('Python', 'IPython'))\n",
    "print(str_a.replace('Python', 'IPython', 2)) # 2번만 바꿈\n",
    "print(str_a.replace('Python', '', 2)) # 빈 문자열로 2번만 바꿈 == 두 개만 지움"
   ]
  }
 ],
 "metadata": {
  "kernelspec": {
   "display_name": "Python 3",
   "language": "python",
   "name": "python3"
  },
  "language_info": {
   "codemirror_mode": {
    "name": "ipython",
    "version": 3
   },
   "file_extension": ".py",
   "mimetype": "text/x-python",
   "name": "python",
   "nbconvert_exporter": "python",
   "pygments_lexer": "ipython3",
   "version": "3.7.3"
  }
 },
 "nbformat": 4,
 "nbformat_minor": 2
}
