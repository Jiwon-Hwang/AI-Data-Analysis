{
 "cells": [
  {
   "cell_type": "markdown",
   "metadata": {},
   "source": [
    "## 출력문"
   ]
  },
  {
   "cell_type": "code",
   "execution_count": 2,
   "metadata": {
    "scrolled": true
   },
   "outputs": [
    {
     "name": "stdout",
     "output_type": "stream",
     "text": [
      "나는 파이썬을 공부한다. 파이썬 정복하고 말거야\n",
      "한달만 기다려 파이썬\n"
     ]
    }
   ],
   "source": [
    "메모 = '''나는 파이썬을 공부한다. 파이썬 정복하고 말거야\n",
    "한달만 기다려 파이썬'''\n",
    "print(메모)"
   ]
  },
  {
   "cell_type": "code",
   "execution_count": 3,
   "metadata": {},
   "outputs": [
    {
     "name": "stdout",
     "output_type": "stream",
     "text": [
      "5 + 3 = 8\n",
      "5 + 3 = 8\n"
     ]
    }
   ],
   "source": [
    "x = 5\n",
    "y = 3\n",
    "print(x, '+', y, '=', x+y)\n",
    "print('%d + %d = %d' % (x, y, x+y))"
   ]
  },
  {
   "cell_type": "markdown",
   "metadata": {},
   "source": [
    "## 퀴즈\n",
    "입력 숫자가 짝수인지 홀수인지 계산하는 프로그램 작성"
   ]
  },
  {
   "cell_type": "code",
   "execution_count": 4,
   "metadata": {},
   "outputs": [
    {
     "name": "stdout",
     "output_type": "stream",
     "text": [
      "정수를 입력하세요 : 125\n",
      "홀수\n"
     ]
    }
   ],
   "source": [
    "a = int(input('정수를 입력하세요 : '))\n",
    "\n",
    "if a % 2 == 0:\n",
    "    print('짝수')\n",
    "else:\n",
    "    print('홀수')"
   ]
  },
  {
   "cell_type": "markdown",
   "metadata": {},
   "source": [
    "## 반복문\n",
    "for문을 이용하여 2~9 사이의 정수 n을 입력 받아 구구단 n단을 출력"
   ]
  },
  {
   "cell_type": "code",
   "execution_count": 5,
   "metadata": {},
   "outputs": [
    {
     "name": "stdout",
     "output_type": "stream",
     "text": [
      "몇 단을 원하세요? : 3\n",
      "3 * 1 = 3\n",
      "3 * 2 = 6\n",
      "3 * 3 = 9\n",
      "3 * 4 = 12\n",
      "3 * 5 = 15\n",
      "3 * 6 = 18\n",
      "3 * 7 = 21\n",
      "3 * 8 = 24\n",
      "3 * 9 = 27\n"
     ]
    }
   ],
   "source": [
    "dan = int(input('몇 단을 원하세요? : '))\n",
    "\n",
    "for k in range(1, 10, 1): # range(10), [1, 2, 3, 4, 5, 6, 7, 8, 9]\n",
    "    print('%d * %d = %d' % (dan, k, dan*k))"
   ]
  },
  {
   "cell_type": "markdown",
   "metadata": {},
   "source": [
    "## .py 파일로 저장하기\n",
    "주피터 노트북에서 **특정 셀** 부분만 .py 파일로 저장하기\n",
    "> **%%writefile 파일명.py**  \n",
    "( 현재 주피터 노트북 파일과 같은 위치에 저장됨)"
   ]
  },
  {
   "cell_type": "code",
   "execution_count": 9,
   "metadata": {},
   "outputs": [
    {
     "name": "stdout",
     "output_type": "stream",
     "text": [
      "Overwriting 구구단.py\n"
     ]
    }
   ],
   "source": [
    "%%writefile 구구단.py\n",
    "i = 0\n",
    "sum = 0\n",
    "\n",
    "print('i sum')\n",
    "while(sum < 20):\n",
    "    i += 1\n",
    "    sum += i\n",
    "    print('i', i, 'sum =', sum)"
   ]
  },
  {
   "cell_type": "markdown",
   "metadata": {},
   "source": [
    "## .py 파일 실행하기\n",
    "> **%run 파일명.py**"
   ]
  },
  {
   "cell_type": "code",
   "execution_count": 10,
   "metadata": {
    "scrolled": true
   },
   "outputs": [
    {
     "name": "stdout",
     "output_type": "stream",
     "text": [
      "i sum\n",
      "i 1 sum = 1\n",
      "i 2 sum = 3\n",
      "i 3 sum = 6\n",
      "i 4 sum = 10\n",
      "i 5 sum = 15\n",
      "i 6 sum = 21\n"
     ]
    }
   ],
   "source": [
    "%run 구구단.py"
   ]
  }
 ],
 "metadata": {
  "kernelspec": {
   "display_name": "Python 3",
   "language": "python",
   "name": "python3"
  },
  "language_info": {
   "codemirror_mode": {
    "name": "ipython",
    "version": 3
   },
   "file_extension": ".py",
   "mimetype": "text/x-python",
   "name": "python",
   "nbconvert_exporter": "python",
   "pygments_lexer": "ipython3",
   "version": "3.7.3"
  }
 },
 "nbformat": 4,
 "nbformat_minor": 2
}
