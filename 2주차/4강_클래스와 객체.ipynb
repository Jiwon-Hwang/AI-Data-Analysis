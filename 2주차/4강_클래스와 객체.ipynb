{
 "cells": [
  {
   "cell_type": "markdown",
   "metadata": {},
   "source": [
    "# 클래스와 객체 만들고 활용하기"
   ]
  },
  {
   "cell_type": "markdown",
   "metadata": {},
   "source": [
    "## 클래스 선언"
   ]
  },
  {
   "cell_type": "code",
   "execution_count": 1,
   "metadata": {},
   "outputs": [],
   "source": [
    "class Car:\n",
    "    # 멤버 변수\n",
    "    color = ''\n",
    "    speed = 0\n",
    "    \n",
    "    # 멤버 함수(메소드)\n",
    "    def upSpeed(self, value):\n",
    "        self.speed += value # self.speed : 멤버변수 / value : 매개변수로 받은 값\n",
    "        \n",
    "    def downSpeed(self, value):\n",
    "        self.speed -= value\n",
    "        \n",
    "    def stop(self):\n",
    "        self.speed = 0"
   ]
  },
  {
   "cell_type": "markdown",
   "metadata": {},
   "source": [
    "## 객체 생성과 활용"
   ]
  },
  {
   "cell_type": "code",
   "execution_count": 2,
   "metadata": {},
   "outputs": [
    {
     "name": "stdout",
     "output_type": "stream",
     "text": [
      "red blue\n",
      "20 30\n"
     ]
    }
   ],
   "source": [
    "# 객체 생성\n",
    "myCar1 = Car()\n",
    "myCar2 = Car()\n",
    "\n",
    "# 객체의 속성 설정\n",
    "myCar1.color = 'red'\n",
    "myCar1.speed = 0\n",
    "myCar2.color = 'blue'\n",
    "myCar2.speed = 0\n",
    "\n",
    "# 객체의 변수 접근과 함수 호출\n",
    "print(myCar1.color, myCar2.color)\n",
    "myCar1.upSpeed(20)\n",
    "myCar2.upSpeed(30)\n",
    "print(myCar1.speed, myCar2.speed)"
   ]
  },
  {
   "cell_type": "markdown",
   "metadata": {},
   "source": [
    "## 객체 초기화 (__init__())\n",
    "* 초기화 함수(**__ init __**) : **객체 생성과 동시에 속성값 지정해주는 함수**\n",
    "* 클래스의 **객체 생성 시 자동으로 실행됨**\n",
    "> 즉, 클래스명()으로 객체 생성 후 값을 정의하는 과정을 한 줄로 축약하는 과정!  \n",
    "* **객체 생성 시 1회만 호출됨!**"
   ]
  },
  {
   "cell_type": "code",
   "execution_count": 3,
   "metadata": {},
   "outputs": [],
   "source": [
    "# 클래스 선언\n",
    "class Car:\n",
    "    color = ''\n",
    "    speed = 0\n",
    "    \n",
    "    # init : 객체 생성 시 자동으로 실행되는 부분\n",
    "    def __init__(self, value1, value2): # 멤버 변수 개수만큼 인자로 받아옴\n",
    "        self.color = value1 # 멤버 변수1\n",
    "        self.speed = value2 # 멤버 변수2\n",
    "    \n",
    "    def upSpeed(self, value):\n",
    "        self.speed += value \n",
    "        \n",
    "    def downSpeed(self, value):\n",
    "        self.speed -= value\n",
    "        \n",
    "    def stop(self):\n",
    "        self.speed = 0\n",
    "        \n",
    "# 객체 생성 ==> 객체의 생성과 동시에 속성값 지정\n",
    "myCar1 = Car('red', 20) # init 함수 자동 호출!\n",
    "myCar2 = Car('blue', 30)"
   ]
  },
  {
   "cell_type": "markdown",
   "metadata": {},
   "source": [
    "## 객체 활용 예제\n",
    "원의 넓이와 둘레를 구하는 클래스 구현"
   ]
  },
  {
   "cell_type": "code",
   "execution_count": 4,
   "metadata": {},
   "outputs": [
    {
     "name": "stdout",
     "output_type": "stream",
     "text": [
      "Circle 객체가 생성됩니다.\n",
      "c1의 반지름은 20\n",
      "c1의 반지름은 10\n",
      "원의 넓이는 314.00\n",
      "원의 둘레는 62.80\n"
     ]
    }
   ],
   "source": [
    "class Circle:\n",
    "    \n",
    "    radius = None # 멤버변수 (반지름)\n",
    "    \n",
    "    # 멤버 변수 (radius) 초기화 ==> ***객체 생성 시 1회만 호출됨!***\n",
    "    def __init__(self, r):\n",
    "        print('Circle 객체가 생성됩니다.')\n",
    "        self.radius = r\n",
    "        \n",
    "    # 입력받은 값으로 반지름 설정하기 ==> 객체 생성 이후엔 이 함수로 반지름 변경\n",
    "    def setR(self, r):\n",
    "        self.radius = r\n",
    "        \n",
    "    def 넓이구하기(self):\n",
    "        area = self.radius * self.radius * 3.14\n",
    "        print('원의 넓이는 %.2f' %area)\n",
    "        \n",
    "    def 둘레구하기(self):\n",
    "        line = 2 * self.radius * 3.14\n",
    "        print('원의 둘레는 %.2f' %line)\n",
    "        \n",
    "c1 = Circle(20)\n",
    "print('c1의 반지름은', c1.radius) # 20 (초기화 함수에 의한 초기값)\n",
    "\n",
    "c1.setR(10)\n",
    "print('c1의 반지름은', c1.radius) # 10 (멤버 함수에 의한 설정값)\n",
    "\n",
    "c1.넓이구하기() # radius : 10\n",
    "c1.둘레구하기() # radius : 10"
   ]
  },
  {
   "cell_type": "code",
   "execution_count": 5,
   "metadata": {},
   "outputs": [
    {
     "name": "stdout",
     "output_type": "stream",
     "text": [
      "원의 넓이는 2826.00\n",
      "원의 둘레는 188.40\n"
     ]
    }
   ],
   "source": [
    "# 이런 방식으로도 멤버변수 값 변경 가능\n",
    "c1.radius = 30\n",
    "c1.넓이구하기()\n",
    "c1.둘레구하기()"
   ]
  },
  {
   "cell_type": "markdown",
   "metadata": {},
   "source": [
    "## 파이썬에서 흔히 볼 수 있는 클래스\n",
    "* int, list 클래스\n",
    "* turtle 모듈의 Turtle 클래스"
   ]
  },
  {
   "cell_type": "code",
   "execution_count": 6,
   "metadata": {},
   "outputs": [],
   "source": [
    "a = int(10) # int 클래스에 10을 넣어서 객체 a 생성\n",
    "b = list(range(10)) # list 클래스에 range(10)을 넣어서 객체 b 생성\n",
    "b.append(20) # 인스턴스 b의 메서드(멤버 함수) append를 호출해 값을 추가"
   ]
  },
  {
   "cell_type": "code",
   "execution_count": 7,
   "metadata": {},
   "outputs": [],
   "source": [
    "import turtle\n",
    "\n",
    "t = turtle.Turtle() # turtle 모듈 내에 정의된 Turtle 클래스로 거북이 객체 t 생성\n",
    "t.shape('turtle')\n",
    "t.shapesize(3)\n",
    "t.circle(10)"
   ]
  },
  {
   "cell_type": "markdown",
   "metadata": {},
   "source": [
    "## (실습) 스스로 해보기1\n",
    "축구 선수의 정보를 저장, 관리 하는 프로그램 작성\n",
    "* 클래스 명 : SoccerPlayer\n",
    "* 멤버 변수 : 이름, 포지션, 등번호\n",
    "* 초기화 함수로 멤버 변수 초기화\n",
    "* 멤버 함수 : 정보 얻어오기, 등 번호 변경하기\n",
    "* HmSon 객체 생성 후 활용"
   ]
  },
  {
   "cell_type": "code",
   "execution_count": 4,
   "metadata": {},
   "outputs": [
    {
     "name": "stdout",
     "output_type": "stream",
     "text": [
      "현재 등번호 : 40\n",
      "선수의 등번호 변경 : From 40 to 7\n",
      "변경 후 등번호 : 7\n",
      "Hello, My name is 손흥민. I can play in FW in center\n"
     ]
    }
   ],
   "source": [
    "class SoccerPlayer:\n",
    "    \n",
    "    def __init__(self, name, position, back_number):\n",
    "        self.name = name\n",
    "        self.position = position\n",
    "        self.back_number = back_number\n",
    "        \n",
    "    def get_info(self):\n",
    "        print('Hello, My name is %s. I can play in %s in center' %(self.name, self.position))\n",
    "        \n",
    "    def change_back_number(self, new_number):\n",
    "        print('선수의 등번호 변경 : From %d to %d' % (self.back_number, new_number))\n",
    "        self.back_number = new_number\n",
    "        \n",
    "HmSon = SoccerPlayer('손흥민', 'FW', 40)\n",
    "\n",
    "print('현재 등번호 :', HmSon.back_number)\n",
    "HmSon.change_back_number(7) # Hmson.back_number = 7 과 동일!!\n",
    "print('변경 후 등번호 :', HmSon.back_number)\n",
    "HmSon.get_info()"
   ]
  },
  {
   "cell_type": "markdown",
   "metadata": {},
   "source": [
    "### cf. 클래스에 멤버함수(API)를 정의하는 이유\n",
    ">  ```py\n",
    "Hmson.back_number = 7\n",
    "```\n",
    "위와 같이 객체의 **속성값**을 외부에서 접근하는 경우,   \n",
    "* 1. 데이터 관리의 어려움  \n",
    "* 2. 정보 은닉의 특성을 가질 수 없음 (객체를 사용하는 이유)  \n",
    "* 3. 여러 데이터를 다룰 경우, 객체 속성의 개별적인 접근은 더 어려움  \n",
    "  \n",
    "따라서, 사용자는 **객체가 제공하는 멤버함수**(**API**)만으로 객체 속성 데이터를 쉽게 관리할 수 있다!"
   ]
  },
  {
   "cell_type": "markdown",
   "metadata": {},
   "source": [
    "## (실습) 스스로 해보기2\n",
    "학교 시험 성적 관리 프로그램\n",
    "* 클래스 명 : Student 클래스\n",
    "* 멤버 변수 : 이름, 국어, 영어, 수학\n",
    "* 초기화 함수로 멤버 변수 초기화\n",
    "* 멤버 함수 : 성적합계 구하기, 성적평균 구하기\n",
    "* std1 객체 생성 후 활용"
   ]
  },
  {
   "cell_type": "code",
   "execution_count": 7,
   "metadata": {},
   "outputs": [
    {
     "name": "stdout",
     "output_type": "stream",
     "text": [
      "245\n",
      "81.66666666666667\n"
     ]
    }
   ],
   "source": [
    "class Student:\n",
    "    \n",
    "    def __init__(self, name, kor, eng, math):\n",
    "        self.name = name\n",
    "        self.kor = kor\n",
    "        self.eng = eng\n",
    "        self.math = math\n",
    "        \n",
    "    def get_sum(self):\n",
    "        return self.kor + self.eng + self.math\n",
    "    \n",
    "    def get_mean(self):\n",
    "        return self.get_sum()/3  # 꼭 self. 붙이기!!\n",
    "    \n",
    "std1 = Student('kim', 90, 80, 75)\n",
    "print(std1.get_sum())\n",
    "print(std1.get_mean())"
   ]
  },
  {
   "cell_type": "markdown",
   "metadata": {},
   "source": [
    "## (실습) 스스로 해보기3\n",
    "직원 정보 관리 프로그램\n",
    "* 클래스 명 : Employee 클래스\n",
    "* 멤버 변수 : first_name, last_name, age, pay 등\n",
    "* 초기화 함수로 멤버 변수 초기화\n",
    "* 멤버 함수 : \n",
    "    * info() : 직원 이름과 나이 출력\n",
    "    * get_pay() : 현재 연봉 출력\n",
    "    * apply_raise(raise_amount) : 인상률을 인자로 받아 인상된 연봉 출력\n",
    "      \n",
    "> 인스턴스 2개 이상 생성 후, 각 인스턴스에서 함수 호출 및 속성 값 적용, 변경"
   ]
  },
  {
   "cell_type": "markdown",
   "metadata": {},
   "source": [
    "### 멤버 함수에서 입력받은 멤버 변수 값 사용 시, [ self. ] 꼭 붙이기!!"
   ]
  },
  {
   "cell_type": "code",
   "execution_count": 12,
   "metadata": {},
   "outputs": [
    {
     "name": "stdout",
     "output_type": "stream",
     "text": [
      "Sanghee Lee님의 나이는 35세 입니다.\n",
      "Sanghee Lee님의 연봉은 4000만원 입니다.\n",
      "Minjung Kim님의 나이는 40세 입니다.\n",
      "Minjung Kim님의 연봉은 6000만원 입니다.\n",
      "\n",
      "Sanghee Lee님의 인상된 연봉은 4120만원 입니다.\n",
      "\n",
      "[경고] 인상율은 1보다 작을 수 없습니다.\n",
      "인상율 입력 :1.1\n",
      "Sanghee Lee님의 인상된 연봉은 4044만원 입니다.\n"
     ]
    }
   ],
   "source": [
    "class Employee:\n",
    "    \n",
    "    def __init__(self, first_name, last_name, age, pay):\n",
    "        self.first_name = first_name\n",
    "        self.last_name = last_name\n",
    "        self.age = age\n",
    "        self.pay = pay\n",
    "        \n",
    "    def info(self):\n",
    "        print('%s %s님의 나이는 %d세 입니다.' % (self.first_name, self.last_name, self.age)) \n",
    "        \n",
    "    def get_pay(self):\n",
    "        print('%s %s님의 연봉은 %d만원 입니다.' % (self.first_name, self.last_name, self.pay))\n",
    "        \n",
    "    def apply_raise(self, raise_amount):\n",
    "        while raise_amount < 1:\n",
    "            print('[경고] 인상율은 1보다 작을 수 없습니다.')\n",
    "            raise_amount = float(input('인상율 입력 :'))\n",
    "        print('%s %s님의 인상된 연봉은 %d만원 입니다.' % \n",
    "              (self.first_name, self.last_name, self.pay + self.pay * (raise_amount/100)))\n",
    "        \n",
    "emp1 = Employee('Sanghee', 'Lee', 35, 4000)\n",
    "emp2 = Employee('Minjung', 'Kim', 40, 6000)\n",
    "\n",
    "emp1.info()\n",
    "emp1.get_pay()\n",
    "emp2.info()\n",
    "emp2.get_pay()\n",
    "\n",
    "print()\n",
    "\n",
    "emp1.apply_raise(3) # 3% 인상\n",
    "print()\n",
    "\n",
    "emp1.apply_raise(0.1) # error 후 재입력"
   ]
  }
 ],
 "metadata": {
  "kernelspec": {
   "display_name": "Python 3",
   "language": "python",
   "name": "python3"
  },
  "language_info": {
   "codemirror_mode": {
    "name": "ipython",
    "version": 3
   },
   "file_extension": ".py",
   "mimetype": "text/x-python",
   "name": "python",
   "nbconvert_exporter": "python",
   "pygments_lexer": "ipython3",
   "version": "3.7.3"
  }
 },
 "nbformat": 4,
 "nbformat_minor": 2
}
