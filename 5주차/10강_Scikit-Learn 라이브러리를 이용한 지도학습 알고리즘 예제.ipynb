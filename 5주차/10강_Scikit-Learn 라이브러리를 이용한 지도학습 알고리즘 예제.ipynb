{
 "cells": [
  {
   "cell_type": "markdown",
   "metadata": {},
   "source": [
    "## Scikit-learn 라이브러리\n",
    "* 사이킷 런 : 대표적인 머신러닝 라이브러리\n",
    "* 분류, 회귀, 군집(클러스터링) 등 다양한 알고리즘 제공\n",
    "* 아나콘다에 포함  \n",
    "    * train_test_split(data_df, test_size)\n",
    "    * KNeighborsClassifier(n_neighbors)\n",
    "    * svm.SVC(C, gamma)\n",
    "    * metrics.accuracy_score(test_label, predict_result)"
   ]
  },
  {
   "cell_type": "markdown",
   "metadata": {},
   "source": [
    "## NBA 농구선수 게임 기록 데이터로 포지션 머신러닝(SVM, KNN)으로 예측\n",
    "* Pos : 포지션\n",
    "* 3P : 한 경기 평균 3점 슛 성공 횟수\n",
    "* TRB : 한 경기 리바운드 성공 횟수\n",
    "* BLK : 한 경기 블로킹 성공 횟수"
   ]
  },
  {
   "cell_type": "markdown",
   "metadata": {},
   "source": [
    "### 1. 데이터 획득\n",
    "basketball_state.csv 파일의 데이터를 DataFrame으로 불러오기\n",
    "* **pd.read_csv()**"
   ]
  },
  {
   "cell_type": "code",
   "execution_count": 1,
   "metadata": {},
   "outputs": [],
   "source": [
    "import pandas as pd\n",
    "from sklearn.model_selection import train_test_split # 8:2로 학습:테스트 쪼개줌\n",
    "from sklearn.neighbors import KNeighborsClassifier #KNN 모델 \n",
    "from sklearn import svm   #SVM 모델\n",
    "from sklearn import metrics  #정확도 비교"
   ]
  },
  {
   "cell_type": "code",
   "execution_count": 2,
   "metadata": {},
   "outputs": [
    {
     "name": "stdout",
     "output_type": "stream",
     "text": [
      "<class 'pandas.core.frame.DataFrame'> <class 'pandas.core.frame.DataFrame'>\n"
     ]
    }
   ],
   "source": [
    "df = pd.read_csv('./basketball_stat.csv') # DF\n",
    "data_df = df[0:200] # 전체 데이터셋 중 200개 모두 사용 / # DF\n",
    "# 행 이름이 아니라 슬라이싱으로 가져올때는 .iloc 안해도 됨! 그냥 슬라이싱처럼!\n",
    "\n",
    "print(type(df), type(data_df))"
   ]
  },
  {
   "cell_type": "markdown",
   "metadata": {},
   "source": [
    "### 2. 전체 데이터셋 나누기 (split)\n",
    "train set(학습 데이터)과 test set(테스트 데이터)로 나누기 => 8:2\n",
    "* from sklearn.model_selection import train_test_split\n",
    "* **train_test_split(df, test_size = num)** "
   ]
  },
  {
   "cell_type": "code",
   "execution_count": 3,
   "metadata": {},
   "outputs": [
    {
     "name": "stdout",
     "output_type": "stream",
     "text": [
      "train data (160, 8)\n",
      "test data (40, 8)\n"
     ]
    }
   ],
   "source": [
    "train, test = train_test_split(data_df, test_size= 0.2) # train:test = 8:2\n",
    "print(\"train data\", train.shape)\n",
    "print(\"test data\",test.shape)"
   ]
  },
  {
   "cell_type": "markdown",
   "metadata": {},
   "source": [
    "### 3. train 데이터셋 분리\n",
    "학습 데이터와 레이블(정답) 분리해주기\n",
    "* train_data_df = train[['3P', '2P', 'BLK']] : **input**\n",
    "    * train_data_df.**values**  \n",
    "\n",
    "  \n",
    "* train_label_df = train[['pos']] : **output**\n",
    "    * train_label_df.**values.ravel()**"
   ]
  },
  {
   "cell_type": "code",
   "execution_count": 4,
   "metadata": {},
   "outputs": [],
   "source": [
    "train_data_df = train[['3P','2P', 'BLK']] # 학습시 3개의 열만 가지고 학습\n",
    "train_label_df = train[['Pos']]   # 정답 label 열 설정 (pos을 예측하는 것!)\n",
    "\n",
    "# 학습할 때에는 DataFrame형태가 아닌, **값들만** 가지고 학습하는 것!!\n",
    "train_data = train_data_df.values  # 값부분만 가져오기(2차원 형태)\n",
    "train_label = train_label_df.values.ravel() # 값부분을 1차원으로 펴주기"
   ]
  },
  {
   "cell_type": "markdown",
   "metadata": {},
   "source": [
    "### 4. test 데이터셋 분리\n",
    "학습데이터와 레이블(정답) 분리해주기\n",
    "* test_data_df = test[['3P', '2P', 'BLK']] : **input**\n",
    "    * test_data_df.**values**  \n",
    "\n",
    "  \n",
    "* test_label_df = test[['pos']] : **output**\n",
    "    * test_label_df.**values.ravel()**"
   ]
  },
  {
   "cell_type": "code",
   "execution_count": 5,
   "metadata": {},
   "outputs": [],
   "source": [
    "test_data_df = test[['3P','2P', 'BLK']] \n",
    "test_label_df = test[['Pos']]  \n",
    "\n",
    "# 학습할 때에는 DataFrame형태가 아닌, 값들만 가지고 학습하는 것!!\n",
    "test_data = test_data_df.values # 값부분만 가져오기(2차원 형태)\n",
    "test_label = test_label_df.values.ravel() #값부분을 **1차원으로 펴주기**"
   ]
  },
  {
   "cell_type": "code",
   "execution_count": 6,
   "metadata": {},
   "outputs": [
    {
     "data": {
      "text/html": [
       "<div>\n",
       "<style scoped>\n",
       "    .dataframe tbody tr th:only-of-type {\n",
       "        vertical-align: middle;\n",
       "    }\n",
       "\n",
       "    .dataframe tbody tr th {\n",
       "        vertical-align: top;\n",
       "    }\n",
       "\n",
       "    .dataframe thead th {\n",
       "        text-align: right;\n",
       "    }\n",
       "</style>\n",
       "<table border=\"1\" class=\"dataframe\">\n",
       "  <thead>\n",
       "    <tr style=\"text-align: right;\">\n",
       "      <th></th>\n",
       "      <th>3P</th>\n",
       "      <th>2P</th>\n",
       "      <th>BLK</th>\n",
       "    </tr>\n",
       "  </thead>\n",
       "  <tbody>\n",
       "    <tr>\n",
       "      <th>128</th>\n",
       "      <td>1.5</td>\n",
       "      <td>4.0</td>\n",
       "      <td>0.4</td>\n",
       "    </tr>\n",
       "    <tr>\n",
       "      <th>15</th>\n",
       "      <td>0.4</td>\n",
       "      <td>1.6</td>\n",
       "      <td>0.7</td>\n",
       "    </tr>\n",
       "    <tr>\n",
       "      <th>132</th>\n",
       "      <td>1.0</td>\n",
       "      <td>3.2</td>\n",
       "      <td>0.9</td>\n",
       "    </tr>\n",
       "    <tr>\n",
       "      <th>29</th>\n",
       "      <td>1.4</td>\n",
       "      <td>2.6</td>\n",
       "      <td>0.3</td>\n",
       "    </tr>\n",
       "    <tr>\n",
       "      <th>63</th>\n",
       "      <td>0.3</td>\n",
       "      <td>2.2</td>\n",
       "      <td>0.5</td>\n",
       "    </tr>\n",
       "  </tbody>\n",
       "</table>\n",
       "</div>"
      ],
      "text/plain": [
       "      3P   2P  BLK\n",
       "128  1.5  4.0  0.4\n",
       "15   0.4  1.6  0.7\n",
       "132  1.0  3.2  0.9\n",
       "29   1.4  2.6  0.3\n",
       "63   0.3  2.2  0.5"
      ]
     },
     "execution_count": 6,
     "metadata": {},
     "output_type": "execute_result"
    }
   ],
   "source": [
    "test_data_df.head() # DataFrame 형태"
   ]
  },
  {
   "cell_type": "code",
   "execution_count": 7,
   "metadata": {},
   "outputs": [
    {
     "data": {
      "text/plain": [
       "array([[1.5, 4. , 0.4],\n",
       "       [0.4, 1.6, 0.7],\n",
       "       [1. , 3.2, 0.9],\n",
       "       [1.4, 2.6, 0.3],\n",
       "       [0.3, 2.2, 0.5],\n",
       "       [0.1, 4.1, 1.5],\n",
       "       [2.7, 2.8, 0.4],\n",
       "       [0.5, 2.1, 0.1],\n",
       "       [0.2, 4.6, 1.4],\n",
       "       [0.9, 5.1, 1.5],\n",
       "       [0.2, 4. , 0.6],\n",
       "       [1.4, 1.4, 0.6],\n",
       "       [0. , 6.6, 1.3],\n",
       "       [0. , 5.9, 2.3],\n",
       "       [0.3, 0.8, 0.3],\n",
       "       [2.1, 4.9, 0.3],\n",
       "       [0.2, 1.2, 0.5],\n",
       "       [1. , 1.6, 0.1],\n",
       "       [0. , 1.1, 0.4],\n",
       "       [0. , 3.1, 2.4],\n",
       "       [2.5, 6.8, 0.7],\n",
       "       [0.3, 1. , 0. ],\n",
       "       [0. , 3.2, 0.9],\n",
       "       [0.1, 0.3, 0.1],\n",
       "       [0.3, 0.6, 0.1],\n",
       "       [0. , 1.7, 0.4],\n",
       "       [0.3, 1. , 0. ],\n",
       "       [2. , 2.3, 0.1],\n",
       "       [0. , 0. , 0.3],\n",
       "       [2.4, 5.8, 0.4],\n",
       "       [0.4, 0. , 0. ],\n",
       "       [1. , 1.7, 0.2],\n",
       "       [1.1, 1.9, 0.3],\n",
       "       [0.1, 1.4, 0.2],\n",
       "       [1.1, 1.4, 0.1],\n",
       "       [0.8, 1.2, 0.2],\n",
       "       [0. , 3.6, 0.7],\n",
       "       [1.6, 4.3, 0.2],\n",
       "       [1.3, 3.7, 1.1],\n",
       "       [2.3, 1.5, 0.2]])"
      ]
     },
     "execution_count": 7,
     "metadata": {},
     "output_type": "execute_result"
    }
   ],
   "source": [
    "test_data # 값부분만(values) 가져온 것 (df말고 일반 2차원 배열으로)"
   ]
  },
  {
   "cell_type": "code",
   "execution_count": 8,
   "metadata": {},
   "outputs": [
    {
     "data": {
      "text/html": [
       "<div>\n",
       "<style scoped>\n",
       "    .dataframe tbody tr th:only-of-type {\n",
       "        vertical-align: middle;\n",
       "    }\n",
       "\n",
       "    .dataframe tbody tr th {\n",
       "        vertical-align: top;\n",
       "    }\n",
       "\n",
       "    .dataframe thead th {\n",
       "        text-align: right;\n",
       "    }\n",
       "</style>\n",
       "<table border=\"1\" class=\"dataframe\">\n",
       "  <thead>\n",
       "    <tr style=\"text-align: right;\">\n",
       "      <th></th>\n",
       "      <th>Pos</th>\n",
       "    </tr>\n",
       "  </thead>\n",
       "  <tbody>\n",
       "    <tr>\n",
       "      <th>128</th>\n",
       "      <td>SG</td>\n",
       "    </tr>\n",
       "    <tr>\n",
       "      <th>15</th>\n",
       "      <td>C</td>\n",
       "    </tr>\n",
       "    <tr>\n",
       "      <th>132</th>\n",
       "      <td>C</td>\n",
       "    </tr>\n",
       "    <tr>\n",
       "      <th>29</th>\n",
       "      <td>SG</td>\n",
       "    </tr>\n",
       "    <tr>\n",
       "      <th>63</th>\n",
       "      <td>C</td>\n",
       "    </tr>\n",
       "  </tbody>\n",
       "</table>\n",
       "</div>"
      ],
      "text/plain": [
       "    Pos\n",
       "128  SG\n",
       "15    C\n",
       "132   C\n",
       "29   SG\n",
       "63    C"
      ]
     },
     "execution_count": 8,
     "metadata": {},
     "output_type": "execute_result"
    }
   ],
   "source": [
    "test_label_df.head() # 정답 레이블은 2차원일 필요없으므로 ravel()로 1차원으로 펴주기!"
   ]
  },
  {
   "cell_type": "code",
   "execution_count": 9,
   "metadata": {},
   "outputs": [
    {
     "data": {
      "text/plain": [
       "array([['SG'],\n",
       "       ['C'],\n",
       "       ['C'],\n",
       "       ['SG'],\n",
       "       ['C'],\n",
       "       ['C'],\n",
       "       ['SG'],\n",
       "       ['SG'],\n",
       "       ['C'],\n",
       "       ['C'],\n",
       "       ['C'],\n",
       "       ['SG'],\n",
       "       ['C'],\n",
       "       ['C'],\n",
       "       ['SG'],\n",
       "       ['SG'],\n",
       "       ['C'],\n",
       "       ['SG'],\n",
       "       ['C'],\n",
       "       ['C'],\n",
       "       ['SG'],\n",
       "       ['SG'],\n",
       "       ['C'],\n",
       "       ['SG'],\n",
       "       ['SG'],\n",
       "       ['C'],\n",
       "       ['SG'],\n",
       "       ['SG'],\n",
       "       ['C'],\n",
       "       ['SG'],\n",
       "       ['SG'],\n",
       "       ['SG'],\n",
       "       ['C'],\n",
       "       ['SG'],\n",
       "       ['SG'],\n",
       "       ['SG'],\n",
       "       ['C'],\n",
       "       ['SG'],\n",
       "       ['C'],\n",
       "       ['SG']], dtype=object)"
      ]
     },
     "execution_count": 9,
     "metadata": {},
     "output_type": "execute_result"
    }
   ],
   "source": [
    "test_label_df.values # 2차원 배열 (values) ==> 1차원으로 펴주기"
   ]
  },
  {
   "cell_type": "code",
   "execution_count": 10,
   "metadata": {},
   "outputs": [
    {
     "data": {
      "text/plain": [
       "array(['SG', 'C', 'C', 'SG', 'C', 'C', 'SG', 'SG', 'C', 'C', 'C', 'SG',\n",
       "       'C', 'C', 'SG', 'SG', 'C', 'SG', 'C', 'C', 'SG', 'SG', 'C', 'SG',\n",
       "       'SG', 'C', 'SG', 'SG', 'C', 'SG', 'SG', 'SG', 'C', 'SG', 'SG',\n",
       "       'SG', 'C', 'SG', 'C', 'SG'], dtype=object)"
      ]
     },
     "execution_count": 10,
     "metadata": {},
     "output_type": "execute_result"
    }
   ],
   "source": [
    "test_label # 1차원 배열으로 펴진 것 (values & ravel())"
   ]
  },
  {
   "cell_type": "markdown",
   "metadata": {},
   "source": [
    "### 5. KNN 모델 학습하기 (fit)\n",
    "K-최근접 이웃 알고리즘으로 모델 학습시키기(**fit**)\n",
    "* from sklearn.neighbors import KNeighborsClassifier\n",
    "* **knn = KNeighborsClassifier(n_neighbors=num)**\n",
    "* **knn.fit(train_data, train_label)**\n",
    "> train_data(2차원 배열), train_label(1차원 배열)"
   ]
  },
  {
   "cell_type": "code",
   "execution_count": 11,
   "metadata": {},
   "outputs": [
    {
     "data": {
      "text/plain": [
       "KNeighborsClassifier(algorithm='auto', leaf_size=30, metric='minkowski',\n",
       "           metric_params=None, n_jobs=None, n_neighbors=5, p=2,\n",
       "           weights='uniform')"
      ]
     },
     "execution_count": 11,
     "metadata": {},
     "output_type": "execute_result"
    }
   ],
   "source": [
    "knn = KNeighborsClassifier(n_neighbors=5) #knn 객체(분류기) 생성 (이웃 : 5개)\n",
    "knn.fit(train_data, train_label)    #knn 모델로 학습하기 (fit)"
   ]
  },
  {
   "cell_type": "markdown",
   "metadata": {},
   "source": [
    "### 6. SVM 모델 학습하기 (fit)\n",
    "서포트 벡터 머신 알고리즘으로 모델 학습시키기(**fit**)\n",
    "* from sklearn import svm\n",
    "* **clf = svm.SVC(C=cost, gamma=gamma)**\n",
    "* **clf.fit(train_data, train_label)**"
   ]
  },
  {
   "cell_type": "code",
   "execution_count": 12,
   "metadata": {
    "scrolled": true
   },
   "outputs": [
    {
     "data": {
      "text/plain": [
       "SVC(C=1, cache_size=200, class_weight=None, coef0=0.0,\n",
       "  decision_function_shape='ovr', degree=3, gamma=1, kernel='rbf',\n",
       "  max_iter=-1, probability=False, random_state=None, shrinking=True,\n",
       "  tol=0.001, verbose=False)"
      ]
     },
     "execution_count": 12,
     "metadata": {},
     "output_type": "execute_result"
    }
   ],
   "source": [
    "clf = svm.SVC(C = 1, gamma = 1) #svm 객체 생성\n",
    "clf.fit(train_data, train_label)  #svm 모델로 학습하기"
   ]
  },
  {
   "cell_type": "markdown",
   "metadata": {},
   "source": [
    "### 7. 테스트 데이터로 예측하기 (predict)\n",
    "학습이 완료된 모델에 test data를 넣어 예측해보기 (*1d array로 return*)\n",
    "* **model.predict(test_data)**"
   ]
  },
  {
   "cell_type": "code",
   "execution_count": 13,
   "metadata": {},
   "outputs": [
    {
     "data": {
      "text/plain": [
       "array(['SG', 'C', 'C', 'SG', 'C', 'C', 'SG', 'SG', 'C', 'C', 'C', 'SG',\n",
       "       'C', 'C', 'SG', 'SG', 'C', 'SG', 'C', 'C', 'SG', 'SG', 'C', 'SG',\n",
       "       'SG', 'C', 'SG', 'SG', 'SG', 'SG', 'SG', 'SG', 'SG', 'C', 'SG',\n",
       "       'SG', 'C', 'SG', 'SG', 'SG'], dtype=object)"
      ]
     },
     "execution_count": 13,
     "metadata": {},
     "output_type": "execute_result"
    }
   ],
   "source": [
    "pred_knn = knn.predict(test_data) #테스트데이터로 예측\n",
    "pred_knn"
   ]
  },
  {
   "cell_type": "code",
   "execution_count": 14,
   "metadata": {},
   "outputs": [
    {
     "data": {
      "text/plain": [
       "array(['SG', 'C', 'C', 'SG', 'C', 'C', 'SG', 'SG', 'C', 'C', 'C', 'SG',\n",
       "       'C', 'C', 'SG', 'SG', 'C', 'SG', 'C', 'C', 'SG', 'SG', 'C', 'SG',\n",
       "       'SG', 'C', 'SG', 'SG', 'SG', 'SG', 'SG', 'SG', 'SG', 'C', 'SG',\n",
       "       'SG', 'C', 'SG', 'C', 'SG'], dtype=object)"
      ]
     },
     "execution_count": 14,
     "metadata": {},
     "output_type": "execute_result"
    }
   ],
   "source": [
    "pred_svm = clf.predict(test_data)\n",
    "pred_svm"
   ]
  },
  {
   "cell_type": "markdown",
   "metadata": {},
   "source": [
    "### 8. 모델 예측 정확도 확인 (accuracy_score)\n",
    "test set의 정답과 모델 예측값이 얼마나 일치하는지 정확도(accuracy) 계산\n",
    "* **metrics.accuracy_score(test_label, pred_model)**"
   ]
  },
  {
   "cell_type": "code",
   "execution_count": 15,
   "metadata": {},
   "outputs": [
    {
     "data": {
      "text/plain": [
       "array(['SG', 'C', 'C', 'SG', 'C', 'C', 'SG', 'SG', 'C', 'C', 'C', 'SG',\n",
       "       'C', 'C', 'SG', 'SG', 'C', 'SG', 'C', 'C', 'SG', 'SG', 'C', 'SG',\n",
       "       'SG', 'C', 'SG', 'SG', 'C', 'SG', 'SG', 'SG', 'C', 'SG', 'SG',\n",
       "       'SG', 'C', 'SG', 'C', 'SG'], dtype=object)"
      ]
     },
     "execution_count": 15,
     "metadata": {},
     "output_type": "execute_result"
    }
   ],
   "source": [
    "test_label #테스트 데이터 정답"
   ]
  },
  {
   "cell_type": "code",
   "execution_count": 16,
   "metadata": {},
   "outputs": [
    {
     "name": "stdout",
     "output_type": "stream",
     "text": [
      "accuracy :  0.9\n",
      "accuracy :  0.925\n"
     ]
    }
   ],
   "source": [
    "ac_score = metrics.accuracy_score(test_label, pred_knn)\n",
    "print('accuracy : ', ac_score)\n",
    "ac_score = metrics.accuracy_score(test_label, pred_svm)\n",
    "print('accuracy : ', ac_score)"
   ]
  },
  {
   "cell_type": "code",
   "execution_count": 17,
   "metadata": {},
   "outputs": [
    {
     "data": {
      "text/html": [
       "<div>\n",
       "<style scoped>\n",
       "    .dataframe tbody tr th:only-of-type {\n",
       "        vertical-align: middle;\n",
       "    }\n",
       "\n",
       "    .dataframe tbody tr th {\n",
       "        vertical-align: top;\n",
       "    }\n",
       "\n",
       "    .dataframe thead th {\n",
       "        text-align: right;\n",
       "    }\n",
       "</style>\n",
       "<table border=\"1\" class=\"dataframe\">\n",
       "  <thead>\n",
       "    <tr style=\"text-align: right;\">\n",
       "      <th></th>\n",
       "      <th>prediction_knn</th>\n",
       "      <th>prediction_svm</th>\n",
       "      <th>ground_truth</th>\n",
       "    </tr>\n",
       "  </thead>\n",
       "  <tbody>\n",
       "    <tr>\n",
       "      <th>0</th>\n",
       "      <td>SG</td>\n",
       "      <td>SG</td>\n",
       "      <td>SG</td>\n",
       "    </tr>\n",
       "    <tr>\n",
       "      <th>1</th>\n",
       "      <td>C</td>\n",
       "      <td>C</td>\n",
       "      <td>C</td>\n",
       "    </tr>\n",
       "    <tr>\n",
       "      <th>2</th>\n",
       "      <td>C</td>\n",
       "      <td>C</td>\n",
       "      <td>C</td>\n",
       "    </tr>\n",
       "    <tr>\n",
       "      <th>3</th>\n",
       "      <td>SG</td>\n",
       "      <td>SG</td>\n",
       "      <td>SG</td>\n",
       "    </tr>\n",
       "    <tr>\n",
       "      <th>4</th>\n",
       "      <td>C</td>\n",
       "      <td>C</td>\n",
       "      <td>C</td>\n",
       "    </tr>\n",
       "    <tr>\n",
       "      <th>5</th>\n",
       "      <td>C</td>\n",
       "      <td>C</td>\n",
       "      <td>C</td>\n",
       "    </tr>\n",
       "    <tr>\n",
       "      <th>6</th>\n",
       "      <td>SG</td>\n",
       "      <td>SG</td>\n",
       "      <td>SG</td>\n",
       "    </tr>\n",
       "    <tr>\n",
       "      <th>7</th>\n",
       "      <td>SG</td>\n",
       "      <td>SG</td>\n",
       "      <td>SG</td>\n",
       "    </tr>\n",
       "    <tr>\n",
       "      <th>8</th>\n",
       "      <td>C</td>\n",
       "      <td>C</td>\n",
       "      <td>C</td>\n",
       "    </tr>\n",
       "    <tr>\n",
       "      <th>9</th>\n",
       "      <td>C</td>\n",
       "      <td>C</td>\n",
       "      <td>C</td>\n",
       "    </tr>\n",
       "    <tr>\n",
       "      <th>10</th>\n",
       "      <td>C</td>\n",
       "      <td>C</td>\n",
       "      <td>C</td>\n",
       "    </tr>\n",
       "    <tr>\n",
       "      <th>11</th>\n",
       "      <td>SG</td>\n",
       "      <td>SG</td>\n",
       "      <td>SG</td>\n",
       "    </tr>\n",
       "    <tr>\n",
       "      <th>12</th>\n",
       "      <td>C</td>\n",
       "      <td>C</td>\n",
       "      <td>C</td>\n",
       "    </tr>\n",
       "    <tr>\n",
       "      <th>13</th>\n",
       "      <td>C</td>\n",
       "      <td>C</td>\n",
       "      <td>C</td>\n",
       "    </tr>\n",
       "    <tr>\n",
       "      <th>14</th>\n",
       "      <td>SG</td>\n",
       "      <td>SG</td>\n",
       "      <td>SG</td>\n",
       "    </tr>\n",
       "    <tr>\n",
       "      <th>15</th>\n",
       "      <td>SG</td>\n",
       "      <td>SG</td>\n",
       "      <td>SG</td>\n",
       "    </tr>\n",
       "    <tr>\n",
       "      <th>16</th>\n",
       "      <td>C</td>\n",
       "      <td>C</td>\n",
       "      <td>C</td>\n",
       "    </tr>\n",
       "    <tr>\n",
       "      <th>17</th>\n",
       "      <td>SG</td>\n",
       "      <td>SG</td>\n",
       "      <td>SG</td>\n",
       "    </tr>\n",
       "    <tr>\n",
       "      <th>18</th>\n",
       "      <td>C</td>\n",
       "      <td>C</td>\n",
       "      <td>C</td>\n",
       "    </tr>\n",
       "    <tr>\n",
       "      <th>19</th>\n",
       "      <td>C</td>\n",
       "      <td>C</td>\n",
       "      <td>C</td>\n",
       "    </tr>\n",
       "    <tr>\n",
       "      <th>20</th>\n",
       "      <td>SG</td>\n",
       "      <td>SG</td>\n",
       "      <td>SG</td>\n",
       "    </tr>\n",
       "    <tr>\n",
       "      <th>21</th>\n",
       "      <td>SG</td>\n",
       "      <td>SG</td>\n",
       "      <td>SG</td>\n",
       "    </tr>\n",
       "    <tr>\n",
       "      <th>22</th>\n",
       "      <td>C</td>\n",
       "      <td>C</td>\n",
       "      <td>C</td>\n",
       "    </tr>\n",
       "    <tr>\n",
       "      <th>23</th>\n",
       "      <td>SG</td>\n",
       "      <td>SG</td>\n",
       "      <td>SG</td>\n",
       "    </tr>\n",
       "    <tr>\n",
       "      <th>24</th>\n",
       "      <td>SG</td>\n",
       "      <td>SG</td>\n",
       "      <td>SG</td>\n",
       "    </tr>\n",
       "    <tr>\n",
       "      <th>25</th>\n",
       "      <td>C</td>\n",
       "      <td>C</td>\n",
       "      <td>C</td>\n",
       "    </tr>\n",
       "    <tr>\n",
       "      <th>26</th>\n",
       "      <td>SG</td>\n",
       "      <td>SG</td>\n",
       "      <td>SG</td>\n",
       "    </tr>\n",
       "    <tr>\n",
       "      <th>27</th>\n",
       "      <td>SG</td>\n",
       "      <td>SG</td>\n",
       "      <td>SG</td>\n",
       "    </tr>\n",
       "    <tr>\n",
       "      <th>28</th>\n",
       "      <td>SG</td>\n",
       "      <td>SG</td>\n",
       "      <td>C</td>\n",
       "    </tr>\n",
       "    <tr>\n",
       "      <th>29</th>\n",
       "      <td>SG</td>\n",
       "      <td>SG</td>\n",
       "      <td>SG</td>\n",
       "    </tr>\n",
       "    <tr>\n",
       "      <th>30</th>\n",
       "      <td>SG</td>\n",
       "      <td>SG</td>\n",
       "      <td>SG</td>\n",
       "    </tr>\n",
       "    <tr>\n",
       "      <th>31</th>\n",
       "      <td>SG</td>\n",
       "      <td>SG</td>\n",
       "      <td>SG</td>\n",
       "    </tr>\n",
       "    <tr>\n",
       "      <th>32</th>\n",
       "      <td>SG</td>\n",
       "      <td>SG</td>\n",
       "      <td>C</td>\n",
       "    </tr>\n",
       "    <tr>\n",
       "      <th>33</th>\n",
       "      <td>C</td>\n",
       "      <td>C</td>\n",
       "      <td>SG</td>\n",
       "    </tr>\n",
       "    <tr>\n",
       "      <th>34</th>\n",
       "      <td>SG</td>\n",
       "      <td>SG</td>\n",
       "      <td>SG</td>\n",
       "    </tr>\n",
       "    <tr>\n",
       "      <th>35</th>\n",
       "      <td>SG</td>\n",
       "      <td>SG</td>\n",
       "      <td>SG</td>\n",
       "    </tr>\n",
       "    <tr>\n",
       "      <th>36</th>\n",
       "      <td>C</td>\n",
       "      <td>C</td>\n",
       "      <td>C</td>\n",
       "    </tr>\n",
       "    <tr>\n",
       "      <th>37</th>\n",
       "      <td>SG</td>\n",
       "      <td>SG</td>\n",
       "      <td>SG</td>\n",
       "    </tr>\n",
       "    <tr>\n",
       "      <th>38</th>\n",
       "      <td>SG</td>\n",
       "      <td>C</td>\n",
       "      <td>C</td>\n",
       "    </tr>\n",
       "    <tr>\n",
       "      <th>39</th>\n",
       "      <td>SG</td>\n",
       "      <td>SG</td>\n",
       "      <td>SG</td>\n",
       "    </tr>\n",
       "  </tbody>\n",
       "</table>\n",
       "</div>"
      ],
      "text/plain": [
       "   prediction_knn prediction_svm ground_truth\n",
       "0              SG             SG           SG\n",
       "1               C              C            C\n",
       "2               C              C            C\n",
       "3              SG             SG           SG\n",
       "4               C              C            C\n",
       "5               C              C            C\n",
       "6              SG             SG           SG\n",
       "7              SG             SG           SG\n",
       "8               C              C            C\n",
       "9               C              C            C\n",
       "10              C              C            C\n",
       "11             SG             SG           SG\n",
       "12              C              C            C\n",
       "13              C              C            C\n",
       "14             SG             SG           SG\n",
       "15             SG             SG           SG\n",
       "16              C              C            C\n",
       "17             SG             SG           SG\n",
       "18              C              C            C\n",
       "19              C              C            C\n",
       "20             SG             SG           SG\n",
       "21             SG             SG           SG\n",
       "22              C              C            C\n",
       "23             SG             SG           SG\n",
       "24             SG             SG           SG\n",
       "25              C              C            C\n",
       "26             SG             SG           SG\n",
       "27             SG             SG           SG\n",
       "28             SG             SG            C\n",
       "29             SG             SG           SG\n",
       "30             SG             SG           SG\n",
       "31             SG             SG           SG\n",
       "32             SG             SG            C\n",
       "33              C              C           SG\n",
       "34             SG             SG           SG\n",
       "35             SG             SG           SG\n",
       "36              C              C            C\n",
       "37             SG             SG           SG\n",
       "38             SG              C            C\n",
       "39             SG             SG           SG"
      ]
     },
     "execution_count": 17,
     "metadata": {},
     "output_type": "execute_result"
    }
   ],
   "source": [
    "# DataFrame형식으로 만들어서 두 모델의 예측값들(1d array)과 정답 비교\n",
    "comparison = pd.DataFrame({'prediction_knn':pred_knn, 'prediction_svm':pred_svm, 'ground_truth':test_label})\n",
    "comparison"
   ]
  }
 ],
 "metadata": {
  "kernelspec": {
   "display_name": "Python 3",
   "language": "python",
   "name": "python3"
  },
  "language_info": {
   "codemirror_mode": {
    "name": "ipython",
    "version": 3
   },
   "file_extension": ".py",
   "mimetype": "text/x-python",
   "name": "python",
   "nbconvert_exporter": "python",
   "pygments_lexer": "ipython3",
   "version": "3.7.3"
  }
 },
 "nbformat": 4,
 "nbformat_minor": 4
}
