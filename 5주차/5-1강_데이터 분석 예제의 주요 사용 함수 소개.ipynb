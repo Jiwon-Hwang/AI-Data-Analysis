{
 "cells": [
  {
   "cell_type": "markdown",
   "metadata": {},
   "source": [
    "# 쇼핑몰 주문 데이터 분석 예제\n",
    "* Pandas 기본 정리\n",
    "* 분석 예제의 주요 사용 함수 소개\n",
    "* 온라인 쇼핑몰 주문 데이터 정제하기\n",
    "* 온라인 쇼핑몰 매출 분석하기"
   ]
  },
  {
   "cell_type": "markdown",
   "metadata": {},
   "source": [
    "## Pandas 기본 정리"
   ]
  },
  {
   "cell_type": "markdown",
   "metadata": {},
   "source": [
    "#### 열, 행 선택\n",
    "![](pandas1.png)  \n",
    "   \n",
    "#### 열, 행 추가, 삭제\n",
    "![](pandas2.png)"
   ]
  },
  {
   "cell_type": "markdown",
   "metadata": {},
   "source": [
    "## 분석 예제의 주요 사용 함수 - 전처리, 그룹화"
   ]
  },
  {
   "cell_type": "markdown",
   "metadata": {},
   "source": [
    "#### 데이터 전처리 함수들\n",
    "* NaN 확인 : info(), isnull() or isna()\n",
    "* NaN 삭제 : dropna(), dropna(axis=1), dropna(subset=['열이름', ...]\n",
    "* NaN을 다른 데이터로 대체 : fillna()\n",
    "> NaN : Not a Number / Not Available\n",
    "     \n",
    "#### 데이터 그룹화\n",
    "* groupby('열이름') 함수 \n",
    "    * groups 속성 : 그룹핑 정보 보기\n",
    "* groupping 함수 :\n",
    "    * count() : 데이터 개수\n",
    "    * sum() : 데이터의 합\n",
    "    * mean(), std(), var() : 평균, 표준편차, 분산"
   ]
  }
 ],
 "metadata": {
  "kernelspec": {
   "display_name": "Python 3",
   "language": "python",
   "name": "python3"
  },
  "language_info": {
   "codemirror_mode": {
    "name": "ipython",
    "version": 3
   },
   "file_extension": ".py",
   "mimetype": "text/x-python",
   "name": "python",
   "nbconvert_exporter": "python",
   "pygments_lexer": "ipython3",
   "version": "3.7.3"
  }
 },
 "nbformat": 4,
 "nbformat_minor": 2
}
