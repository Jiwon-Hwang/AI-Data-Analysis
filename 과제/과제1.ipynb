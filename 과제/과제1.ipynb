{
 "cells": [
  {
   "cell_type": "code",
   "execution_count": 1,
   "metadata": {},
   "outputs": [
    {
     "data": {
      "text/plain": [
       "['Seoul', 'Pusan', 'Paju']"
      ]
     },
     "execution_count": 1,
     "metadata": {},
     "output_type": "execute_result"
    }
   ],
   "source": [
    "a = 'Seoul,Pusan,Paju'\n",
    "b = a.split(',')\n",
    "b"
   ]
  },
  {
   "cell_type": "code",
   "execution_count": 2,
   "metadata": {},
   "outputs": [
    {
     "data": {
      "text/plain": [
       "'Seoul,Pusan,Paju'"
      ]
     },
     "execution_count": 2,
     "metadata": {},
     "output_type": "execute_result"
    }
   ],
   "source": [
    "','.join(b)"
   ]
  },
  {
   "cell_type": "code",
   "execution_count": 1,
   "metadata": {},
   "outputs": [
    {
     "data": {
      "text/plain": [
       "(24, 31, 38, 45, 52)"
      ]
     },
     "execution_count": 1,
     "metadata": {},
     "output_type": "execute_result"
    }
   ],
   "source": [
    "c = list(range(10, 60, 7))\n",
    "d = tuple(range(10, 60, 7))\n",
    "d[2:7]"
   ]
  },
  {
   "cell_type": "code",
   "execution_count": 4,
   "metadata": {},
   "outputs": [
    {
     "name": "stdout",
     "output_type": "stream",
     "text": [
      "['James', 'Robert', 'Lisa', 'Mary', 'Laura']\n",
      "['James', 'Robert', 'Lisa', 'Mary', 'Laura', 'Judy', 'Lisa']\n",
      "['James', 'Robert', 'Lisa', 'Anna', 'Mary', 'Laura', 'Judy', 'Lisa']\n",
      "['Anna', 'James', 'Judy', 'Laura', 'Lisa', 'Lisa', 'Mary', 'Robert']\n",
      "['Robert', 'Mary', 'Lisa', 'Lisa', 'Laura', 'Judy', 'James', 'Anna']\n",
      "['Robert', 'Mary', 'Lisa', 'Lisa', 'Laura', 'Judy', 'James', 'Anna', 'Lisa']\n",
      "3\n",
      "2\n"
     ]
    }
   ],
   "source": [
    "# 1번\n",
    "People = ['James', 'Robert', 'Lisa', 'Mary', 'Laura']\n",
    "print(People)\n",
    "\n",
    "# 2번\n",
    "People.extend(['Judy', 'Lisa'])\n",
    "print(People)\n",
    "\n",
    "# 3번\n",
    "People.insert(3, 'Anna')\n",
    "print(People)\n",
    "\n",
    "# 4번\n",
    "People.sort()\n",
    "print(People)\n",
    "\n",
    "# 5번\n",
    "People.reverse()\n",
    "print(People)\n",
    "\n",
    "# 6번\n",
    "People.append('Lisa')\n",
    "print(People)\n",
    "\n",
    "# 7번\n",
    "print(People.count('Lisa'))\n",
    "\n",
    "# 8번\n",
    "print(People.index('Lisa'))"
   ]
  },
  {
   "cell_type": "code",
   "execution_count": 7,
   "metadata": {},
   "outputs": [
    {
     "name": "stdout",
     "output_type": "stream",
     "text": [
      "{'강아지': 'dog', '고양이': 'cat', '새': 'bird', '코끼리': 'elephant'}\n",
      "동물 이름(한글) : 강아지\n",
      "강아지는  영어로는 dog 입니다.\n"
     ]
    }
   ],
   "source": [
    "# 1번\n",
    "dic = {'강아지' : 'dog', '고양이' : 'cat', '새' : 'bird', '코끼리' : 'elephant'}\n",
    "print(dic)\n",
    "\n",
    "# 2번\n",
    "animal_name = input(\"동물 이름(한글) : \")\n",
    "\n",
    "# 3번\n",
    "print('%s는  영어로는 %s 입니다.' % (animal_name, dic[animal_name]))"
   ]
  },
  {
   "cell_type": "code",
   "execution_count": 11,
   "metadata": {},
   "outputs": [
    {
     "name": "stdout",
     "output_type": "stream",
     "text": [
      "245\n",
      "81.66666666666667\n"
     ]
    }
   ],
   "source": [
    "class Student:\n",
    "    name = None\n",
    "    kor = None\n",
    "    eng = None\n",
    "    mat = None\n",
    "    \n",
    "    def __init__(self, name='', kor=0, eng=0, mat=0):\n",
    "        self.name = name\n",
    "        self.kor = kor\n",
    "        self.eng = eng\n",
    "        self.mat = mat\n",
    "        \n",
    "    def getSum(self):\n",
    "        return self.kor + self.eng + self.mat\n",
    "    \n",
    "    def getAve(self):\n",
    "        return self.getSum()/3 \n",
    "    \n",
    "std1 = Student('kim', 90, 80, 75)\n",
    "print(std1.getSum())\n",
    "print(std1.getAve())"
   ]
  },
  {
   "cell_type": "code",
   "execution_count": 14,
   "metadata": {},
   "outputs": [
    {
     "name": "stdout",
     "output_type": "stream",
     "text": [
      "[ 1.  2.  3.  4.  5.  6.  7.  8.  9. 10.]\n"
     ]
    }
   ],
   "source": [
    "import numpy as np\n",
    "\n",
    "a = [1,2,3,4,5,6,7,8,9,10]\n",
    "\n",
    "# 1번\n",
    "a = np.array(a, dtype = float)\n",
    "print(a)"
   ]
  },
  {
   "cell_type": "code",
   "execution_count": 15,
   "metadata": {},
   "outputs": [
    {
     "name": "stdout",
     "output_type": "stream",
     "text": [
      "[10 12 14 16 18 20 22 24 26 28 30 32 34 36 38 40 42 44 46 48]\n"
     ]
    }
   ],
   "source": [
    "# 2번\n",
    "a = np.arange(10, 50, 2)\n",
    "print(a)"
   ]
  },
  {
   "cell_type": "code",
   "execution_count": 16,
   "metadata": {},
   "outputs": [
    {
     "name": "stdout",
     "output_type": "stream",
     "text": [
      "[[10 12 14 16]\n",
      " [18 20 22 24]\n",
      " [26 28 30 32]\n",
      " [34 36 38 40]\n",
      " [42 44 46 48]]\n"
     ]
    }
   ],
   "source": [
    "# 3번\n",
    "a = a.reshape(5, 4)\n",
    "print(a)"
   ]
  },
  {
   "cell_type": "code",
   "execution_count": 17,
   "metadata": {},
   "outputs": [
    {
     "name": "stdout",
     "output_type": "stream",
     "text": [
      "[ 20.          28.88888889  37.77777778  46.66666667  55.55555556\n",
      "  64.44444444  73.33333333  82.22222222  91.11111111 100.        ]\n"
     ]
    }
   ],
   "source": [
    "# 4번\n",
    "a = np.linspace(20, 100, 10)\n",
    "print(a)"
   ]
  },
  {
   "cell_type": "code",
   "execution_count": 18,
   "metadata": {},
   "outputs": [
    {
     "name": "stdout",
     "output_type": "stream",
     "text": [
      "[[13  6 13 15 11]\n",
      " [ 1 13  5  8  7]\n",
      " [ 9  2  8  2 13]\n",
      " [ 7 12 15  7  4]]\n"
     ]
    }
   ],
   "source": [
    "# 5번\n",
    "a = np.random.randint(20, size = (4, 5))\n",
    "print(a)"
   ]
  },
  {
   "cell_type": "code",
   "execution_count": 21,
   "metadata": {},
   "outputs": [
    {
     "data": {
      "image/png": "[encoded data removed]",
      "text/plain": [
       "<Figure size 432x288 with 1 Axes>"
      ]
     },
     "metadata": {
      "needs_background": "light"
     },
     "output_type": "display_data"
    }
   ],
   "source": [
    "import matplotlib\n",
    "import matplotlib.pyplot as plt\n",
    "import numpy as np\n",
    "\n",
    "matplotlib.rcParams['font.family'] = 'Malgun Gothic'\n",
    "matplotlib.rcParams['axes.unicode_minus'] = False\n",
    "\n",
    "age = np.arange(10, 101, 10)\n",
    "male = [5200, 5200, 11500, 10800, 10000, 8790, 6370, 3760, 1050, 20]\n",
    "female = [5800, 5400, 10500, 11200, 10000, 10010, 6930, 4040, 1550, 370]\n",
    "barWidth = 3\n",
    "plt.bar(age, male, color='b', align= 'edge', width = barWidth)\n",
    "plt.bar(age + barWidth, female, color='r', align= 'edge', width = barWidth,\n",
    "tick_label=age)\n",
    "plt.legend(['남','여'])\n",
    "plt.xlabel('연령')\n",
    "plt.ylabel('인구')\n",
    "plt.title('동작구 상도동의 인구구조')\n",
    "plt.show()"
   ]
  }
 ],
 "metadata": {
  "kernelspec": {
   "display_name": "Python 3",
   "language": "python",
   "name": "python3"
  },
  "language_info": {
   "codemirror_mode": {
    "name": "ipython",
    "version": 3
   },
   "file_extension": ".py",
   "mimetype": "text/x-python",
   "name": "python",
   "nbconvert_exporter": "python",
   "pygments_lexer": "ipython3",
   "version": "3.7.3"
  }
 },
 "nbformat": 4,
 "nbformat_minor": 2
}
