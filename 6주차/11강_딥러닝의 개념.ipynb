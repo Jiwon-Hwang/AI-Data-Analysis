{
 "cells": [
  {
   "cell_type": "markdown",
   "metadata": {},
   "source": [
    "# 딥러닝의 개념\n",
    "* 딥러닝의 기초를 이루는 원리\n",
    "* 인공신경망의 구조\n",
    "* 딥러닝의 개념"
   ]
  },
  {
   "cell_type": "markdown",
   "metadata": {},
   "source": [
    "# 딥러닝의 기초를 이루는 원리\n",
    "* 딥러닝 : 머신러닝의 다양한 알고리즘의 한 종류, 인공 신경망 알고리즘을 이용한 기계학습\n",
    "> * 머신러닝 : 인간이 수동적으로 중요 특징을 input으로 주어야 함\n",
    "> * 딥러닝 : 자동으로 input에서 중요 특징 추출 (by. 인공 신경망)\n",
    "* 높은 정확도\n",
    "* 방대한 양의 학습 데이터, 높은 성능의 하드웨어 필요 (중요 특징을 스스로 추출하기 위해)\n",
    "* 머신러닝에 비해 학습 시간 오래걸림"
   ]
  },
  {
   "cell_type": "markdown",
   "metadata": {},
   "source": [
    "## 선형 회귀\n",
    "* 가장 훌륭한 예측선 긋기\n",
    "* **선형 회귀** : 임의의 직선을 그어 그에 대한 **평균 제곱근 오차(MSE)** 를 구하고 이 값을 **가장 작게 만들어주는 a와 b(매개변수)를 찾아가는** 작업"
   ]
  },
  {
   "cell_type": "markdown",
   "metadata": {},
   "source": [
    "## 다중 선형 회귀\n",
    "* 가장 훌륭한 예측 평면 찾기\n",
    "* **y = a1x1 + a2x2 + b**\n",
    "    * a1, a2 : 기울기\n",
    "    * b : y 절편"
   ]
  },
  {
   "cell_type": "markdown",
   "metadata": {},
   "source": [
    "## 로지스틱 회귀\n",
    "* **로지스틱 회귀** : 학습 데이터에서 최적의 직선을 찾고, 적절한 **기준선(값)**으로 **참(1)과 거짓(0)으로 분류하는 S자 형태의 적절한 선을 찾아가는** 작업\n",
    "* 딥러닝의 기본적인 요소로 사용되는 알고리즘 \n",
    "![](logistic.png)"
   ]
  },
  {
   "cell_type": "markdown",
   "metadata": {},
   "source": [
    "> * 선형 회귀, 다중 선형 회귀 : **값을 예측**\n",
    "> * 로지스틱 회귀 : **참, 거짓을 판단(분류!)**"
   ]
  },
  {
   "cell_type": "markdown",
   "metadata": {},
   "source": [
    "# 인공신경망의 구조"
   ]
  },
  {
   "cell_type": "markdown",
   "metadata": {},
   "source": [
    "## 인공신경망(Artificial Neural Networks)\n",
    "* **인공신경망의 구조**\n",
    "    * input(x)이 들어오면 가중치(w)가 곱해짐\n",
    "    * 그 곱들의 합 + b(편향값)인 y가 어느 임계값(T)보다 크면, 1을 출력해 다음 노드(뉴런)의 입력으로 보냄 (함수 f가 결정)\n",
    "    > w1x1 + w2x2 + w3x3 + b = u : ***다중 선형 회귀!***  \n",
    "    * output인 0과 1을 판단하는 함수 : **활성화 함수(activation function)**  \n",
    "    > f(u) = Y : ***로지스틱 회귀!***  \n",
    "      \n",
    "![](ANN.png)  \n",
    "* **퍼셉트론(perceptron)**\n",
    "    * 신경망을 이루는 가장 중요한 기본 단위\n",
    "    * 입력 값과 활성화 함수를 사용해 출력 값을 다음으로 넘기는 가장 작은 신경망 단위\n",
    "     \n",
    "       \n",
    "* **활성화 함수(activation function)** \n",
    "    * 입력 신호를 받아 **T**를 넘어서는 경우에 출력을 생성해주는 함수 f\n",
    "    * ex) sigmoid, ReLU, Leaky ReLu, hyperbolic tangent(tanh) 등\n",
    "      \n",
    "        \n",
    "* **가중치(weight)**\n",
    "    * **입력 신호**가 결과 출력에 주는 **영향도**를 조절하는 매개변수\n",
    "\n",
    "  \n",
    "* **편향(bias)**\n",
    "    * **뉴런이 얼마나 쉽게 활성화(1로 출력) 되느냐**를 조정하는 매개변수\n",
    "    * bias가 크면 임계값(T)을 넘기 쉬우므로 활성화되어 1로 출력할 가능성이 커짐!"
   ]
  },
  {
   "cell_type": "markdown",
   "metadata": {},
   "source": [
    "## 퍼셉트론을 통한 문제 해결\n",
    "* 구입할지 검토하는 바이어스 값(선택의 기준이 되는 값)을 b라고 할 때 코드\n",
    "```py\n",
    "if (x1 * w1) + (x2 * w2) + (x3 * w3) + b > T :\n",
    "    # 구매\n",
    "else : \n",
    "    # 구매하지 않음\n",
    "```   \n",
    "> 가중치(w)와 바이어스(b)를 변경하다보면 어떤 정도의 w와 b가 좋은 결정을 내리는지 구할 수 있음!"
   ]
  },
  {
   "cell_type": "markdown",
   "metadata": {},
   "source": [
    "# 딥러닝의 개념"
   ]
  },
  {
   "cell_type": "markdown",
   "metadata": {},
   "source": [
    "## 인공신경망과 딥러닝\n",
    "* 딥러닝 == **다층 인공 신경망**\n",
    "* 다층 인공 신경망 : **입력층, 중간층(은닉층), 출력층**으로 구성\n",
    "* 딥러닝의 학습 : 다층 신경망 구조에서 **출력층에서의 오차가 최소가 되도록** 각 노드(뉴런)을 연결하는 **가중치와 편향 값들을 학습**하는 과정\n",
    "> 가중치 갱신 방향 : 역방향\n",
    "* **은닉층을 깊게 할수록 정확도가 높은 결과 get!**"
   ]
  },
  {
   "cell_type": "markdown",
   "metadata": {},
   "source": [
    "## 딥러닝이 문제를 해결하는 방식\n",
    "사진을 보고 개인지 고양이인지 구분하는 예\n",
    "* input(x) : 수염이 있는지 없는지, 귀가 있는지 없는지, 솟아 있는지 등의 특징\n",
    "* **딥러닝 : 중요한 특징을 자동적으로 골라냄** (층을 거치면서 점점 더 중요한 특징만 추출, By. T(센 자극만 임계값 넘음))\n",
    "* **머신러닝 : 수동적으로 중요한 특징을 골라냄** (초기 입력을 사람이 중요 특징 골라서 줘야 함)"
   ]
  }
 ],
 "metadata": {
  "kernelspec": {
   "display_name": "Python 3",
   "language": "python",
   "name": "python3"
  },
  "language_info": {
   "codemirror_mode": {
    "name": "ipython",
    "version": 3
   },
   "file_extension": ".py",
   "mimetype": "text/x-python",
   "name": "python",
   "nbconvert_exporter": "python",
   "pygments_lexer": "ipython3",
   "version": "3.7.3"
  }
 },
 "nbformat": 4,
 "nbformat_minor": 2
}
