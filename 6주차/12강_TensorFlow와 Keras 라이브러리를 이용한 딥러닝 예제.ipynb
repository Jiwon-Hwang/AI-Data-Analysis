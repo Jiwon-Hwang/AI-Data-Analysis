{
 "cells": [
  {
   "cell_type": "markdown",
   "metadata": {},
   "source": [
    "# [cf. 머신러닝 vs 딥러닝 모델링 비교]\n",
    "\n",
    "분류|input|라이브러리|모델|층 추가|컴파일|학습|평가|사용(예측)       \n",
    "-|-|-|-|-|-|-|-|-     \n",
    "머신러닝|수동|sklearn|KNN, SVM|X|X|fit|accuracy_score|predict        \n",
    "딥러닝|자동|keras, tensorflow|Sequential|O(Dense)|O(compile)|fit|evaluate|predict_classes       \n",
    "     "
   ]
  },
  {
   "cell_type": "markdown",
   "metadata": {},
   "source": [
    "<hr>"
   ]
  },
  {
   "cell_type": "markdown",
   "metadata": {},
   "source": [
    "# TensorFlow와 Keras 라이브러리를 이용한 딥러닝\n",
    "* 딥러닝 작업 환경 만들기 (TF, Keras, 구글 Colab)\n",
    "* 딥러닝을 통한 예측하기 (폐암 수술 환자의 생존율 예측)"
   ]
  },
  {
   "cell_type": "markdown",
   "metadata": {},
   "source": [
    "# 딥러닝 작업 환경 만들기\n",
    "* Keras를 구동하려면 TensorFlow가 먼저 설치되어야 함 (TF 2.0부터는 Keras 내장됨)\n",
    "* 둘 다 아나콘다 배포판에 포함되지 않아서 별도 설치 필요\n",
    "* 구글 Colab : 클라우드 기반의 무료 Jupyter 노트북 개발 환경"
   ]
  },
  {
   "cell_type": "code",
   "execution_count": 1,
   "metadata": {},
   "outputs": [],
   "source": [
    "import tensorflow"
   ]
  },
  {
   "cell_type": "code",
   "execution_count": 2,
   "metadata": {
    "scrolled": true
   },
   "outputs": [
    {
     "name": "stderr",
     "output_type": "stream",
     "text": [
      "Using TensorFlow backend.\n"
     ]
    }
   ],
   "source": [
    "import keras"
   ]
  },
  {
   "cell_type": "markdown",
   "metadata": {},
   "source": [
    "# 폐암 수술 환자의 생존율 예측하기"
   ]
  },
  {
   "cell_type": "markdown",
   "metadata": {},
   "source": [
    "### 1. 데이터셋 가져오기 (pandas - read)"
   ]
  },
  {
   "cell_type": "code",
   "execution_count": 3,
   "metadata": {},
   "outputs": [
    {
     "name": "stdout",
     "output_type": "stream",
     "text": [
      "(470, 18)\n",
      "<class 'numpy.ndarray'>\n"
     ]
    },
    {
     "data": {
      "text/plain": [
       "array([[293.  ,   1.  ,   3.8 , ...,   0.  ,  62.  ,   0.  ],\n",
       "       [  1.  ,   2.  ,   2.88, ...,   0.  ,  60.  ,   0.  ],\n",
       "       [  8.  ,   2.  ,   3.19, ...,   0.  ,  66.  ,   1.  ],\n",
       "       ...,\n",
       "       [406.  ,   6.  ,   5.36, ...,   0.  ,  62.  ,   0.  ],\n",
       "       [ 25.  ,   8.  ,   4.32, ...,   0.  ,  58.  ,   1.  ],\n",
       "       [447.  ,   8.  ,   5.2 , ...,   0.  ,  49.  ,   0.  ]])"
      ]
     },
     "execution_count": 3,
     "metadata": {},
     "output_type": "execute_result"
    }
   ],
   "source": [
    "import tensorflow as tf\n",
    "import pandas as pd\n",
    "import numpy as np\n",
    "\n",
    "df = pd.read_csv('thoracic_surgery.csv') # DataFrame\n",
    "Data_set = df.values # DataFrame -> 2d array\n",
    "\n",
    "print(Data_set.shape) # 환자 470명 데이터, 17가지 속성 + 클래스(수술 후 생존 여부)\n",
    "print(type(Data_set)) # 2d numpy array\n",
    "Data_set"
   ]
  },
  {
   "cell_type": "markdown",
   "metadata": {},
   "source": [
    "### 2. 데이터셋 분리하기 (sklearn - split, slicing)\n",
    "1. 학습(train) 데이터 & 테스트(test) 데이터 분리 - split\n",
    "2. 속성(X) & 클래스(Y) 분리 - slicing"
   ]
  },
  {
   "cell_type": "code",
   "execution_count": 4,
   "metadata": {},
   "outputs": [],
   "source": [
    "from sklearn.model_selection import train_test_split\n",
    "\n",
    "# 전체 데이터셋에서 학습데이터와 테스트데이터 분리 (각각 2d np.array!)\n",
    "train, test = train_test_split(Data_set, test_size = 0.2)\n",
    "\n",
    "# 속성(17가지 요소) & 클래스(생존 여부) 분리 (2d numpy array slicing)\n",
    "X_train = train[:, 0:17]\n",
    "Y_train = train[:, 17] # 18번째 마지막 열 (클래스, 예측 결과, 정답)\n",
    "\n",
    "X_test = test[:, 0:17]\n",
    "Y_test = test[:, 17]"
   ]
  },
  {
   "cell_type": "code",
   "execution_count": 5,
   "metadata": {},
   "outputs": [
    {
     "data": {
      "text/plain": [
       "array([[459.  ,   3.  ,   3.6 , ...,   0.  ,   0.  ,  46.  ],\n",
       "       [401.  ,   3.  ,   2.48, ...,   0.  ,   0.  ,  61.  ],\n",
       "       [ 21.  ,   3.  ,   4.48, ...,   1.  ,   0.  ,  51.  ],\n",
       "       ...,\n",
       "       [  8.  ,   2.  ,   3.19, ...,   1.  ,   0.  ,  66.  ],\n",
       "       [177.  ,   3.  ,   3.2 , ...,   1.  ,   0.  ,  52.  ],\n",
       "       [435.  ,   3.  ,   3.08, ...,   1.  ,   0.  ,  57.  ]])"
      ]
     },
     "execution_count": 5,
     "metadata": {},
     "output_type": "execute_result"
    }
   ],
   "source": [
    "X_train"
   ]
  },
  {
   "cell_type": "code",
   "execution_count": 6,
   "metadata": {},
   "outputs": [
    {
     "data": {
      "text/plain": [
       "(376, 17)"
      ]
     },
     "execution_count": 6,
     "metadata": {},
     "output_type": "execute_result"
    }
   ],
   "source": [
    "X_train.shape # 470 * 0.8 = 376"
   ]
  },
  {
   "cell_type": "code",
   "execution_count": 7,
   "metadata": {},
   "outputs": [
    {
     "data": {
      "text/plain": [
       "array([0., 0., 0., 0., 0., 0., 0., 0., 0., 0., 1., 0., 1., 0., 0., 0., 0.,\n",
       "       0., 1., 0., 0., 0., 1., 0., 1., 0., 0., 0., 0., 0., 1., 0., 1., 1.,\n",
       "       1., 0., 0., 0., 0., 0., 0., 0., 0., 0., 0., 0., 0., 0., 0., 0., 0.,\n",
       "       0., 0., 0., 0., 0., 0., 0., 0., 0., 1., 0., 1., 0., 0., 0., 0., 1.,\n",
       "       0., 0., 0., 0., 0., 0., 0., 0., 0., 0., 0., 1., 1., 0., 0., 0., 0.,\n",
       "       0., 0., 0., 0., 1., 0., 0., 0., 0., 0., 0., 0., 0., 0., 0., 0., 1.,\n",
       "       0., 0., 0., 0., 0., 0., 0., 0., 0., 1., 0., 1., 0., 0., 0., 1., 0.,\n",
       "       0., 1., 0., 0., 0., 0., 0., 0., 1., 0., 0., 0., 0., 1., 0., 0., 0.,\n",
       "       1., 0., 0., 1., 0., 0., 1., 0., 0., 0., 0., 1., 1., 0., 0., 0., 1.,\n",
       "       0., 0., 0., 0., 0., 0., 0., 0., 0., 0., 0., 0., 0., 0., 0., 0., 0.,\n",
       "       0., 0., 0., 0., 0., 1., 0., 0., 1., 0., 1., 0., 0., 0., 0., 0., 0.,\n",
       "       0., 0., 0., 1., 0., 0., 0., 1., 0., 1., 0., 0., 1., 1., 0., 0., 0.,\n",
       "       0., 0., 0., 0., 0., 0., 0., 0., 0., 0., 0., 0., 0., 1., 0., 0., 0.,\n",
       "       0., 0., 0., 0., 0., 0., 0., 0., 1., 0., 0., 0., 0., 0., 0., 0., 0.,\n",
       "       0., 1., 0., 0., 0., 0., 0., 0., 0., 0., 0., 0., 0., 0., 0., 0., 0.,\n",
       "       0., 0., 0., 0., 0., 0., 0., 0., 0., 1., 0., 1., 0., 0., 0., 0., 1.,\n",
       "       0., 0., 0., 0., 0., 0., 0., 0., 0., 0., 1., 0., 0., 0., 0., 1., 1.,\n",
       "       0., 0., 0., 1., 0., 1., 0., 0., 0., 0., 0., 0., 0., 0., 1., 1., 0.,\n",
       "       0., 0., 0., 1., 0., 0., 0., 0., 0., 0., 0., 0., 0., 0., 0., 0., 1.,\n",
       "       0., 0., 0., 0., 0., 0., 0., 0., 0., 0., 0., 0., 0., 1., 0., 0., 1.,\n",
       "       0., 0., 1., 0., 0., 1., 0., 0., 0., 0., 0., 0., 0., 0., 0., 1., 0.,\n",
       "       0., 0., 1., 1., 0., 0., 0., 0., 0., 0., 0., 0., 0., 0., 1., 0., 1.,\n",
       "       0., 0.])"
      ]
     },
     "execution_count": 7,
     "metadata": {},
     "output_type": "execute_result"
    }
   ],
   "source": [
    "Y_train"
   ]
  },
  {
   "cell_type": "code",
   "execution_count": 8,
   "metadata": {},
   "outputs": [
    {
     "data": {
      "text/plain": [
       "(376,)"
      ]
     },
     "execution_count": 8,
     "metadata": {},
     "output_type": "execute_result"
    }
   ],
   "source": [
    "Y_train.shape # 클래스(Y, 정답 레이블) : 1d array"
   ]
  },
  {
   "cell_type": "markdown",
   "metadata": {},
   "source": [
    "### 3. 입력층, 은닉층, 출력층 만들기 (keras - Sequential, Dense, add)\n",
    "각 층의 딥러닝 구조를 짜고 층을 설정하기\n",
    "* **model = Sequential()** : 딥러닝 구조의 **모델 객체 생성**\n",
    "  \n",
    "    \n",
    "* **model.add(Dense())** : Sequential 모델 객체의 add() 메서드로 **층을 추가**\n",
    "    * 각 층은 **Dense()객체**를 통해 **구체적 구조 설정**\n",
    "    * in Keras, **첫번째 Dense : 은닉층 + 입력층!**  \n",
    "      \n",
    "        \n",
    "* **Dense(num, input_dim, activation)**\n",
    "    * num : 현재 층의 노드 수 (== 출력 노드 수!)\n",
    "    * input_dim : 현재 층으로 들어오는 입력 값의 개수\n",
    "    * activation : 사용할 활성화 함수\n",
    "    \n",
    "       \n",
    "![](sequential.png)\n",
    "> * 층(Dense) 2개\n",
    "* 입력층 노드 17개 (환자 1명당 속성 x 17가지)\n",
    "* 은닉층 노드 30개 (x 1개당 w 30개씩)\n",
    "* 출력층 노드 1개 (Y 즉, 클래스(레이블) : 1(생존) or 0(사망))"
   ]
  },
  {
   "cell_type": "code",
   "execution_count": 9,
   "metadata": {
    "scrolled": false
   },
   "outputs": [
    {
     "name": "stdout",
     "output_type": "stream",
     "text": [
      "WARNING:tensorflow:From C:\\Users\\pc\\Anaconda3\\lib\\site-packages\\keras\\backend\\tensorflow_backend.py:66: The name tf.get_default_graph is deprecated. Please use tf.compat.v1.get_default_graph instead.\n",
      "\n",
      "WARNING:tensorflow:From C:\\Users\\pc\\Anaconda3\\lib\\site-packages\\keras\\backend\\tensorflow_backend.py:541: The name tf.placeholder is deprecated. Please use tf.compat.v1.placeholder instead.\n",
      "\n",
      "WARNING:tensorflow:From C:\\Users\\pc\\Anaconda3\\lib\\site-packages\\keras\\backend\\tensorflow_backend.py:4432: The name tf.random_uniform is deprecated. Please use tf.random.uniform instead.\n",
      "\n"
     ]
    }
   ],
   "source": [
    "from keras.models import Sequential\n",
    "from keras.layers import Dense\n",
    "\n",
    "# 딥러닝 구조 모델인 Sequential 객체, model 생성\n",
    "model = Sequential()\n",
    "\n",
    "# 2개의 층을 추가 (입력+은닉층 & 출력층)\n",
    "model.add(Dense(30, input_dim = 17, activation='relu')) # 입력층(+은닉층)\n",
    "model.add(Dense(1, activation = 'sigmoid')) # 출력층 (노드 1개, input_dim 생략)"
   ]
  },
  {
   "cell_type": "markdown",
   "metadata": {},
   "source": [
    "### 4. 모델 컴파일하기 (compile)\n",
    "* **model.compile(loss, optimizer, metrics)** : 모델을 더 효과적으로 구현할 환경 설정\n",
    "    * loss : 한 번 신경망이 실행될 때마다 **'오차값을 계산'하는 함수** (ex. **mse**)\n",
    "    * optimizer : **'오차를 어떻게 줄여 나갈지'** 정하는 **'가중치 수정'**함수 (ex. **adam**)\n",
    "    * metrics : 학습과 테스트 단계에서 **모델을 '평가'하기 위한 성능 기준** 설정 (ex. **accuracy**)\n",
    "![](compile.png)"
   ]
  },
  {
   "cell_type": "code",
   "execution_count": 10,
   "metadata": {},
   "outputs": [
    {
     "name": "stdout",
     "output_type": "stream",
     "text": [
      "WARNING:tensorflow:From C:\\Users\\pc\\Anaconda3\\lib\\site-packages\\keras\\optimizers.py:793: The name tf.train.Optimizer is deprecated. Please use tf.compat.v1.train.Optimizer instead.\n",
      "\n"
     ]
    }
   ],
   "source": [
    "# 모델을 더 효과적으로 구현할 환경 설정 (compile)\n",
    "model.compile(loss='mean_squared_error', optimizer='adam', metrics=['accuracy'])"
   ]
  },
  {
   "cell_type": "markdown",
   "metadata": {},
   "source": [
    "### 5. 모델 학습하기 (fit)\n",
    "* **model.fit(X_train, Y_train, epochs, batch_size)** : 학습 데이터로 학습시키기  \n",
    "    * epochs(에포크) : 각 샘플(한 행)을 **반복하여 실행하는 횟수**\n",
    "    > epoch = 30 : 전체 데이터(모든 행들)를 30번 반복하여 학습 (376 * 30)\n",
    "    * batch_size : 샘플을 **한 번에 처리하는 개수** (끊어서 넣는 단위)\n",
    "    > batch_size = 10 : 전체 데이터를 10개씩 끊어서 집어 넣음 ((10 * 37 + 6) * 30)"
   ]
  },
  {
   "cell_type": "code",
   "execution_count": 11,
   "metadata": {
    "scrolled": false
   },
   "outputs": [
    {
     "name": "stdout",
     "output_type": "stream",
     "text": [
      "WARNING:tensorflow:From C:\\Users\\pc\\Anaconda3\\lib\\site-packages\\keras\\backend\\tensorflow_backend.py:1033: The name tf.assign_add is deprecated. Please use tf.compat.v1.assign_add instead.\n",
      "\n",
      "WARNING:tensorflow:From C:\\Users\\pc\\Anaconda3\\lib\\site-packages\\keras\\backend\\tensorflow_backend.py:1020: The name tf.assign is deprecated. Please use tf.compat.v1.assign instead.\n",
      "\n",
      "Epoch 1/30\n",
      "376/376 [==============================] - 0s 878us/step - loss: 0.6040 - acc: 0.3750\n",
      "Epoch 2/30\n",
      "376/376 [==============================] - 0s 122us/step - loss: 0.1680 - acc: 0.8271\n",
      "Epoch 3/30\n",
      "376/376 [==============================] - 0s 103us/step - loss: 0.1596 - acc: 0.8404\n",
      "Epoch 4/30\n",
      "376/376 [==============================] - 0s 101us/step - loss: 0.1596 - acc: 0.8404\n",
      "Epoch 5/30\n",
      "376/376 [==============================] - 0s 145us/step - loss: 0.1596 - acc: 0.8404\n",
      "Epoch 6/30\n",
      "376/376 [==============================] - 0s 172us/step - loss: 0.1596 - acc: 0.8404\n",
      "Epoch 7/30\n",
      "376/376 [==============================] - 0s 167us/step - loss: 0.1596 - acc: 0.8404\n",
      "Epoch 8/30\n",
      "376/376 [==============================] - 0s 135us/step - loss: 0.1596 - acc: 0.8404\n",
      "Epoch 9/30\n",
      "376/376 [==============================] - 0s 130us/step - loss: 0.1596 - acc: 0.8404\n",
      "Epoch 10/30\n",
      "376/376 [==============================] - 0s 170us/step - loss: 0.1596 - acc: 0.8404\n",
      "Epoch 11/30\n",
      "376/376 [==============================] - 0s 141us/step - loss: 0.1596 - acc: 0.8404\n",
      "Epoch 12/30\n",
      "376/376 [==============================] - 0s 186us/step - loss: 0.1596 - acc: 0.8404\n",
      "Epoch 13/30\n",
      "376/376 [==============================] - 0s 159us/step - loss: 0.1596 - acc: 0.8404\n",
      "Epoch 14/30\n",
      "376/376 [==============================] - 0s 133us/step - loss: 0.1596 - acc: 0.8404\n",
      "Epoch 15/30\n",
      "376/376 [==============================] - 0s 122us/step - loss: 0.1596 - acc: 0.8404\n",
      "Epoch 16/30\n",
      "376/376 [==============================] - 0s 109us/step - loss: 0.1596 - acc: 0.8404\n",
      "Epoch 17/30\n",
      "376/376 [==============================] - 0s 130us/step - loss: 0.1596 - acc: 0.8404\n",
      "Epoch 18/30\n",
      "376/376 [==============================] - 0s 127us/step - loss: 0.1596 - acc: 0.8404\n",
      "Epoch 19/30\n",
      "376/376 [==============================] - 0s 143us/step - loss: 0.1596 - acc: 0.8404\n",
      "Epoch 20/30\n",
      "376/376 [==============================] - 0s 125us/step - loss: 0.1596 - acc: 0.8404\n",
      "Epoch 21/30\n",
      "376/376 [==============================] - 0s 127us/step - loss: 0.1596 - acc: 0.8404\n",
      "Epoch 22/30\n",
      "376/376 [==============================] - 0s 119us/step - loss: 0.1596 - acc: 0.8404\n",
      "Epoch 23/30\n",
      "376/376 [==============================] - 0s 117us/step - loss: 0.1596 - acc: 0.8404\n",
      "Epoch 24/30\n",
      "376/376 [==============================] - 0s 141us/step - loss: 0.1596 - acc: 0.8404\n",
      "Epoch 25/30\n",
      "376/376 [==============================] - 0s 130us/step - loss: 0.1596 - acc: 0.8404\n",
      "Epoch 26/30\n",
      "376/376 [==============================] - 0s 119us/step - loss: 0.1596 - acc: 0.8404\n",
      "Epoch 27/30\n",
      "376/376 [==============================] - 0s 114us/step - loss: 0.1596 - acc: 0.8404\n",
      "Epoch 28/30\n",
      "376/376 [==============================] - 0s 167us/step - loss: 0.1596 - acc: 0.8404\n",
      "Epoch 29/30\n",
      "376/376 [==============================] - 0s 133us/step - loss: 0.1596 - acc: 0.8404\n",
      "Epoch 30/30\n",
      "376/376 [==============================] - 0s 122us/step - loss: 0.1596 - acc: 0.8404\n"
     ]
    },
    {
     "data": {
      "text/plain": [
       "<keras.callbacks.History at 0x247ba7f33c8>"
      ]
     },
     "execution_count": 11,
     "metadata": {},
     "output_type": "execute_result"
    }
   ],
   "source": [
    "# 모델 학습시키기\n",
    "model.fit(X_train, Y_train, epochs=30, batch_size=10)"
   ]
  },
  {
   "cell_type": "markdown",
   "metadata": {},
   "source": [
    "### 6. 모델 평가하고 사용하기 (evaluate, predict_classes)\n",
    "* **model.evaluate(X_test, Y_test)** : 학습이 끝난 딥러닝 모델이 얼마나 정확하게 예측하는지 점검 (평가)  \n",
    "> return : 오차, 정확도(acc)\n",
    "* **model.predict_classes(X_test)** : 위 딥러닝 모델을 이용하여 생존 여부 예측(테스트)"
   ]
  },
  {
   "cell_type": "code",
   "execution_count": 12,
   "metadata": {},
   "outputs": [
    {
     "name": "stdout",
     "output_type": "stream",
     "text": [
      "94/94 [==============================] - 0s 477us/step\n"
     ]
    },
    {
     "data": {
      "text/plain": [
       "[0.10638280656743557, 0.8936170225447797]"
      ]
     },
     "execution_count": 12,
     "metadata": {},
     "output_type": "execute_result"
    }
   ],
   "source": [
    "model.evaluate(X_test, Y_test) # 89% 정확도"
   ]
  },
  {
   "cell_type": "code",
   "execution_count": 14,
   "metadata": {},
   "outputs": [
    {
     "data": {
      "text/plain": [
       "array([0, 0, 0, 0, 0, 0, 0, 0, 0, 0, 0, 0, 0, 0, 0, 0, 0, 0, 0, 0, 0, 0,\n",
       "       0, 0, 0, 0, 0, 0, 0, 0, 0, 0, 0, 0, 0, 0, 0, 0, 0, 0, 0, 0, 0, 0,\n",
       "       0, 0, 0, 0, 0, 0, 0, 0, 0, 0, 0, 0, 0, 0, 0, 0, 0, 0, 0, 0, 0, 0,\n",
       "       0, 0, 0, 0, 0, 0, 0, 0, 0, 0, 0, 0, 0, 0, 0, 0, 0, 0, 0, 0, 0, 0,\n",
       "       0, 0, 0, 0, 0, 0])"
      ]
     },
     "execution_count": 14,
     "metadata": {},
     "output_type": "execute_result"
    }
   ],
   "source": [
    "# predict_classes만 하면 레이블 값인데 쓸데없이 2차원으로 나옴 => ravel()로 1d array\n",
    "prediction = model.predict_classes(X_test) # 2d array\n",
    "prediction.ravel()"
   ]
  },
  {
   "cell_type": "code",
   "execution_count": 16,
   "metadata": {},
   "outputs": [
    {
     "data": {
      "text/html": [
       "<div>\n",
       "<style scoped>\n",
       "    .dataframe tbody tr th:only-of-type {\n",
       "        vertical-align: middle;\n",
       "    }\n",
       "\n",
       "    .dataframe tbody tr th {\n",
       "        vertical-align: top;\n",
       "    }\n",
       "\n",
       "    .dataframe thead th {\n",
       "        text-align: right;\n",
       "    }\n",
       "</style>\n",
       "<table border=\"1\" class=\"dataframe\">\n",
       "  <thead>\n",
       "    <tr style=\"text-align: right;\">\n",
       "      <th></th>\n",
       "      <th>prediction</th>\n",
       "      <th>ground_truth</th>\n",
       "    </tr>\n",
       "  </thead>\n",
       "  <tbody>\n",
       "    <tr>\n",
       "      <th>0</th>\n",
       "      <td>0</td>\n",
       "      <td>0</td>\n",
       "    </tr>\n",
       "    <tr>\n",
       "      <th>1</th>\n",
       "      <td>0</td>\n",
       "      <td>0</td>\n",
       "    </tr>\n",
       "    <tr>\n",
       "      <th>2</th>\n",
       "      <td>0</td>\n",
       "      <td>0</td>\n",
       "    </tr>\n",
       "    <tr>\n",
       "      <th>3</th>\n",
       "      <td>0</td>\n",
       "      <td>0</td>\n",
       "    </tr>\n",
       "    <tr>\n",
       "      <th>4</th>\n",
       "      <td>0</td>\n",
       "      <td>1</td>\n",
       "    </tr>\n",
       "  </tbody>\n",
       "</table>\n",
       "</div>"
      ],
      "text/plain": [
       "   prediction  ground_truth\n",
       "0           0             0\n",
       "1           0             0\n",
       "2           0             0\n",
       "3           0             0\n",
       "4           0             1"
      ]
     },
     "execution_count": 16,
     "metadata": {},
     "output_type": "execute_result"
    }
   ],
   "source": [
    "# 위의 예측값(1d array) -> DataFrame 형식으로 보기 \n",
    "# pd.DataFrame({'열 이름1' : 1d array, '열 이름2' : 1d array, ...}) \n",
    "comparision = pd.DataFrame({'prediction' : prediction.ravel(), 'ground_truth' : Y_test.astype(int)})\n",
    "comparision.head()"
   ]
  },
  {
   "cell_type": "markdown",
   "metadata": {},
   "source": [
    "![](process.png)"
   ]
  }
 ],
 "metadata": {
  "kernelspec": {
   "display_name": "Python 3",
   "language": "python",
   "name": "python3"
  },
  "language_info": {
   "codemirror_mode": {
    "name": "ipython",
    "version": 3
   },
   "file_extension": ".py",
   "mimetype": "text/x-python",
   "name": "python",
   "nbconvert_exporter": "python",
   "pygments_lexer": "ipython3",
   "version": "3.7.3"
  }
 },
 "nbformat": 4,
 "nbformat_minor": 2
}
