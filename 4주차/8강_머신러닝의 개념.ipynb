{
 "cells": [
  {
   "cell_type": "markdown",
   "metadata": {},
   "source": [
    "# 머신러닝의 개념\n",
    "* 인공지능의 개념\n",
    "* 머신러닝의 개념\n",
    "* 머신러닝의 학습 방법"
   ]
  },
  {
   "cell_type": "markdown",
   "metadata": {},
   "source": [
    " * 4차 산업혁명 : 2016년 스위스 세계 경제 포럼에서 주창된 용어\n",
    " * 생산, 유통, 소비 전 과정에서 모든 것이 연결되고 지능화된 시대\n",
    " * 인공지능 : 컴퓨터가 인간의 문제해결을 위해 상황을 인지, 파악, 추론, 답을 얻어내는 것\n",
    " * 인공지능(AI) > 머신러닝 > 딥러닝\n",
    "     * 인공지능 : **인간과 비슷하게 사고하는 컴퓨터의 지능을 구현**하는 포괄적 개념\n",
    "     * 머신러닝 : **데이터를 입력해 컴퓨터를 학습시키거나 스스로 배우게 해**, 인공지능 성능을 향상시키는 방법\n",
    "     * 딥러닝 : 머신러닝의 한 분야로, **신경망(Neural Network)**을 통해서 학습하는 방법"
   ]
  },
  {
   "cell_type": "markdown",
   "metadata": {},
   "source": [
    "## 머신러닝\n",
    "* with 대량의 데이터 & 알고리즘, 컴퓨터에게 **패턴을 학습** 시키고 학습으로 얻어진 정보를 기반으로 **미래의 임의의 데이터에 대한 결과 예측**\n",
    "* 직접 구체적으로 sw에 코딩해 넣는 것이 아님! (if~else, for 문 등 만으로..)\n",
    "* 대표 알고리즘\n",
    "> 분류(Classification), 회귀(Regression), 군집(Clustering), 신경망(Neural Network) 등"
   ]
  },
  {
   "cell_type": "markdown",
   "metadata": {},
   "source": [
    "## 머신러닝 알고리즘의 처리 흐름\n",
    "* 훈련 데이터 -> 학습(train) -> 학습 모델 get -> 예측(test) -> 정답과 비교 -> 모델 갱신 반복\n",
    "* 실제 데이터 -> 학습된 모델에 적용 -> 유추한 결과"
   ]
  },
  {
   "cell_type": "markdown",
   "metadata": {},
   "source": [
    "## 머신러닝의 분류\n",
    "* **지도학습** : **학습 데이터와 명시적인 정답(레이블)**을 이용해 학습 후, 새로운 데이터에 대한 미래 결과 예측\n",
    "> 회귀, 분류  \n",
    "* **비지도 학습** : *학습할 데이터에 정답이 없이*, **입력 데이터만으로 숨겨진 특징이나 패턴을** 학습을 통해 **스스로 발견**하는 방법   \n",
    "> 군집    \n",
    "  \n",
    "![](SL,UL.png)"
   ]
  },
  {
   "cell_type": "markdown",
   "metadata": {},
   "source": [
    "## 지도학습 (Supervised Learning)\n",
    "* **분류(Classification)**\n",
    "    * 학습 데이터를 이용해 주**어진 입력 값이 어떤 종류(분류)의 값인지 구별**\n",
    "    * ex. 레스토랑에서 식사 가능 여부 예측 (가능/불가능)\n",
    "    * ex. 손글씨 숫자 인식 (0~9 사이의 숫자로 분류)\n",
    "      \n",
    "* **회귀(Regressiong)**\n",
    "    * 학습 데이터를 이용해 **연속적인(숫자) 값**을 예측하는 것\n",
    "    * ex. 공부 시간과 시험 성적의 관계를 예측 (input:시간 -> output:시험 성적(점수))"
   ]
  },
  {
   "cell_type": "markdown",
   "metadata": {},
   "source": [
    "## 비지도학습 (Unsupervised Learning)\n",
    "* **군집(Clustering)**\n",
    "    * *사전 정보가 없는(정답 X)* 주어진 데이터들에서 **공통적인 요소들을 찾아 유사성이 높은 군들끼리 다른 그룹으로 나누는 방법**\n",
    "    * ex. 뉴스 그룹핑, 백화점의 구매 이력을 바탕으로 상품 추천 시스템, SNS에서 관심사가 같은 사용자를 같은 카테고리로 묶는 기능  \n",
    "\n",
    "![](unsupervised.png)\n",
    "> * 지도학습 중 분류 : 학습 단계에서 이미 인간이 기준(가이드, 정답) 제공\n",
    "> * 비지도학습 중 군집 : 학습 단계에서 정답 X, 스스로 패턴 찾아서 군집화"
   ]
  },
  {
   "cell_type": "markdown",
   "metadata": {},
   "source": [
    "## 강화학습 (reinforcement learning)\n",
    "* 주어진 환경(state)에서 주체(agent)가 현재의 **상태(state)를 관찰**하며 **선택할 수 있는 행동(action)들 중 가장 최대의 보상(reward)**을 가져다주는 행동이 무엇인지 학습하는 것  \n",
    "     \n",
    "    >* 지도학습, 비지도학습 : 환경 변화 X, 사람으로부터 학습 받는 것\n",
    "    >* 강화학습 : 변화되는 환경으로부터 보상을 받아 학습  \n",
    "      \n",
    "  \n",
    "* 사람이 지식을 습득할 때처럼 **시행착오**를 겪으며(**보상**) 학습하는 것과 매우 흡사 ==> 인공지능을 가장 잘 대표하는 모델  \n",
    "  \n",
    "  \n",
    "* ex. 프로세스 제어, 네트워크 관리, 로봇 공학 등\n",
    "* ex. 알파고\n",
    "* ex. 자율 주행 자동차, 드론 분야 등"
   ]
  },
  {
   "cell_type": "markdown",
   "metadata": {},
   "source": [
    "## 머신러닝의 과정"
   ]
  },
  {
   "cell_type": "markdown",
   "metadata": {},
   "source": [
    "![](process.png)"
   ]
  }
 ],
 "metadata": {
  "kernelspec": {
   "display_name": "Python 3",
   "language": "python",
   "name": "python3"
  },
  "language_info": {
   "codemirror_mode": {
    "name": "ipython",
    "version": 3
   },
   "file_extension": ".py",
   "mimetype": "text/x-python",
   "name": "python",
   "nbconvert_exporter": "python",
   "pygments_lexer": "ipython3",
   "version": "3.7.3"
  }
 },
 "nbformat": 4,
 "nbformat_minor": 2
}
